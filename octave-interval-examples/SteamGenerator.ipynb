{
 "cells": [
  {
   "cell_type": "markdown",
   "metadata": {},
   "source": [
    "# Производительность парогенератора\n",
    "\n",
    "Этот простой пример построения модели, описывающей изменение количества вырабатываемого парогенератором пара в зависимости от подаваемого на вход топлива, приведён в книге [[1]](#VoschininSotirov1989). Он иллюстрирует основные шаги построения и анализа интервальных регрессионных моделей при точно задаваемых входных переменных и наличии интервальной неопредлённости в выходной переменной.\n",
    "\n",
    "## Набор данных\n",
    "\n",
    "Рассмотрим процедуру построения и анализа зависимости по интервальным данным на примере исследования парогенератора типа БК-3-210, широко используемого на ТЭЦ для выработки пара высокого давления.\n",
    "\n",
    "Основной эксплуатационной  характеристикой агрегата является зависимость его производительности $y$, измеряемой как расход пара на выходе агрегата, от расхода топлива $x$ на входе агрегата.\n",
    "\n",
    "В результате испытаний парогенератора после проведения регламентных работ были получены данные трёх измерений, причём расход пара измерялся с 5%-й относительной ошибкой. Полученные данные сведены в таблицу.\n",
    "\n",
    "|  *i* | $x$ | $y$ | $\\varepsilon$ | $y^{-} = y - \\varepsilon$ |  $y^{+} = y + \\varepsilon$ |\n",
    "| :---: |:------- | :--------: | :--------: |  :--------: | :--------: |\n",
    "| 1 | $12$ | $128$ | $6$  | $122$ | $134$ |\n",
    "| 2 | $16$ | $180$ | $9$  | $171$ | $189$ |\n",
    "| 3 | $20$ | $230$ | $11$ | $119$ | $241$ |\n",
    "\n",
    "Здесь  \n",
    " *i* &mdash; номер опыта;  \n",
    " $y_i$ &mdash; значение производительности агрегата, измеренное в $i$-м опыте;  \n",
    " $\\varepsilon = 0.05y$; &mdash; предельный уровень ошибки измерения  $y_i$ (величина неопредлённости, радиус интервала  $\\mathbf{y}_i$);  \n",
    " $y_{i}^{-} = y_i - \\varepsilon_i$ &mdash; нижняя граница интервального измерения $\\mathbf{y}_i$;   \n",
    " $y_{i}^{+} = y_i + \\varepsilon_i$  &mdash; верхняя граница интервального измерения $\\mathbf{y}_i$.\n",
    " \n",
    "Для перехода к практическим вычислениям необходимо указать путь к функциям построения и анализа интервальной регрессии, а также загрузить исходный набор данных."
   ]
  },
  {
   "cell_type": "code",
   "execution_count": 1,
   "metadata": {},
   "outputs": [
    {
     "name": "stdout",
     "output_type": "stream",
     "text": [
      "steam =\r\n",
      "\r\n",
      "  scalar structure containing the fields:\r\n",
      "\r\n",
      "    title = Зависимость производительности парогенератора (выхода пара) от расхода топлива\r\n",
      "    refs = Вощинин А.П., Сотиров Г.Р. Оптимизация в условиях неопределенности. М.: Изд-во МЭИ; София: Техника, 1989. -- 224 с.\r\n",
      "    vars =\r\n",
      "    {\r\n",
      "      [1,1] = fuel_consumption\r\n",
      "      [2,1] = steam_output\r\n",
      "      [3,1] = steam_output_eps\r\n",
      "    }\r\n",
      "\r\n",
      "    data =\r\n",
      "\r\n",
      "        12   128     6\r\n",
      "        16   180     9\r\n",
      "        20   230    11\r\n",
      "\r\n",
      "\r\n"
     ]
    }
   ],
   "source": [
    "## Установить пути к функциям построения интервальной регрессии\n",
    "addpath(genpath('./m'))\n",
    "\n",
    "## Загрузить исходные данные\n",
    "load data/steam.mat\n",
    "steam"
   ]
  },
  {
   "cell_type": "markdown",
   "metadata": {},
   "source": [
    "## Структура модели и информационное множество\n",
    "\n",
    "Известно, что у парогенераторов типа БК-3-210 зависимость $y = f(x)$ является достаточно гладкой неубывающей функцией.\n",
    "\n",
    "В связи с этим было решено искать модель агрегата в классе линейных функций \n",
    "\n",
    "$$y = \\beta_1 + \\beta_2 x$$ \n",
    "\n",
    "с неотрицательной первой производной. \n",
    "\n",
    "Эти условия в совокупности с данными интервальных измерений приводят к следующей системе неравенств для неизвестных параметров $\\beta_1$ и $\\beta_2$:\n",
    "\n",
    "$$122 \\leq \\beta_1 + 12 \\beta_2 \\leq 134,$$\n",
    "$$171 \\leq \\beta_1 + 16 \\beta_2 \\leq 189,$$\n",
    "$$230 \\leq \\beta_1 + 20 \\beta_2 \\leq 241,$$\n",
    "$$0 \\leq \\beta_2,$$\n",
    "\n",
    "Множество решений этой системы неравенств, т. е. оценок параметров искомой зависимости, является главным объектом последующего анализа и именуется **информационным множеством задачи**.\n",
    "\n",
    "На основе набора данных, гипотез о структуре модели и дополнительных ограничений, вытекающих из априорных сведений о моделируемом явлении, формируется переменная, содержащая описание задачи построения интервальной регрессии."
   ]
  },
  {
   "cell_type": "code",
   "execution_count": 2,
   "metadata": {},
   "outputs": [],
   "source": [
    "## Определить задачу построения интервальной регрессии \n",
    "##     y = X * beta = beta1 + beta2 * x \n",
    "## с ограничением beta2 >= 0\n",
    "\n",
    "x = steam.data(:,1);        # количество затраченного топлива\n",
    "y = steam.data(:,2);        # объем произведенного пара\n",
    "epsilon = steam.data(:,3);  # верхняя граница ошибки для y_i\n",
    "\n",
    "X = [ x.^0 x ];                               # матрица значений переменных при beta1 и beta2\n",
    "lb = [-inf 0];                                # нижние границы beta1 и beta2\n",
    "irp_steam = ir_problem(X, y, epsilon, lb);    # создание переменной, содержащей описание задачи \n",
    "                                              #               построения интервальной регрессии"
   ]
  },
  {
   "cell_type": "markdown",
   "metadata": {},
   "source": [
    "Первичное представление о данных позволяет получить их графическое представление."
   ]
  },
  {
   "cell_type": "code",
   "execution_count": 3,
   "metadata": {},
   "outputs": [
    {
     "data": {
      "image/png": "[encoded data removed]",
      "text/plain": [
       "<IPython.core.display.Image object>"
      ]
     },
     "metadata": {},
     "output_type": "display_data"
    }
   ],
   "source": [
    "## График интервальных измерений\n",
    "figure\n",
    "ir_scatter(irp_steam);   \n",
    "xlim([0 22])\n",
    "ylim([-10 260])\n",
    "set(gca, 'fontsize', 12)\n",
    "title('Steam generator performance');\n",
    "xlabel('Fuel consumption');\n",
    "ylabel('Steam quantity');"
   ]
  },
  {
   "cell_type": "markdown",
   "metadata": {},
   "source": [
    "Поскольку информационное множество задачи построения линейной зависимости по интервальным данным задаётся системой линейных неравенств, то оно представляет собой выпуклый многогранник. "
   ]
  },
  {
   "cell_type": "code",
   "execution_count": 4,
   "metadata": {},
   "outputs": [
    {
     "data": {
      "image/png": "[encoded data removed]",
      "text/plain": [
       "<IPython.core.display.Image object>"
      ]
     },
     "metadata": {},
     "output_type": "display_data"
    }
   ],
   "source": [
    "## Графическое представление информационного множества\n",
    "ir_plotbeta(irp_steam)\n",
    "grid on\n",
    "set(gca, 'fontsize', 12)\n",
    "xlabel('\\beta_1')\n",
    "ylabel('\\beta_2')\n",
    "title('Information set')"
   ]
  },
  {
   "cell_type": "markdown",
   "metadata": {},
   "source": [
    "Полезным представлением многогранника информационного множества $B$ служит набор его вершин $b_i$. В частности,  расстояние между наиболее удалёнными вершинами (диаметр этого многогранника $\\rho(B)$), может служить мерой  неопределённости задачи."
   ]
  },
  {
   "cell_type": "code",
   "execution_count": 5,
   "metadata": {},
   "outputs": [
    {
     "name": "stdout",
     "output_type": "stream",
     "text": [
      "vertices =\n",
      "\n",
      "  -26.5000   13.3750\n",
      "  -56.5000   14.8750\n",
      "  -25.0000   12.2500\n",
      "  -21.0000   12.0000\n",
      "    6.5000   10.6250\n",
      "\n",
      "rhoB =  63.143\n",
      "b1 =\n",
      "\n",
      "    6.5000   10.6250\n",
      "\n",
      "b2 =\n",
      "\n",
      "  -56.500   14.875\n",
      "\n"
     ]
    }
   ],
   "source": [
    "## Вершины информационного множества задачи построения интервальной регрессии\n",
    "vertices = ir_beta2poly(irp_steam)\n",
    "\n",
    "## Диаметр и наиболее удаленные вершины информационного множества \n",
    "[rhoB, b1, b2] = ir_betadiam(irp_steam)"
   ]
  },
  {
   "cell_type": "markdown",
   "metadata": {},
   "source": [
    "В рассматриваемом простом примере информационное множество задачи оказалось непустым. В общем же случае информационное множество задачи может оказаться пустым, что свидетельствует о наличии противоречий (несовместности) в данных и ограничениях задачи. Для разрешения противоречий можно прибегать к некоторым специальным приёмам (см. блокнот *Построение зависимостей для несовместных данных*)."
   ]
  },
  {
   "cell_type": "markdown",
   "metadata": {},
   "source": [
    "## Интервальные и точечные оценки параметров\n",
    "\n",
    "Один из главных вопросов при построении регрессии -- оценивание её параметров. В зависимости от прикладных целей  характер и назначение искомых оценок могут существенно разниться.\n",
    "\n",
    "Внешняя интервальная оценка параметра определяется минимальным и максимальным значениями, которых может достигать значение параметра в информационном множестве.\n",
    "\n",
    "В совокупности интервальные оценки параметров задают брус, описанный вокруг информационного множества и именуемый **внешней интервальной оболочкой информационного множества**.\n"
   ]
  },
  {
   "cell_type": "code",
   "execution_count": 6,
   "metadata": {},
   "outputs": [
    {
     "name": "stdout",
     "output_type": "stream",
     "text": [
      "b_int =\r\n",
      "\r\n",
      "  -56.5000    6.5000\r\n",
      "   10.6250   14.8750\r\n",
      "\r\n"
     ]
    }
   ],
   "source": [
    "## Внешние интервальние оценки параметров модели y = beta1 + beta2 * x \n",
    "b_int = ir_outer(irp_steam)\n"
   ]
  },
  {
   "cell_type": "markdown",
   "metadata": {},
   "source": [
    "Роль точечной оценки параметров зависимости может исполнять любая из точек информационного множества. В некоторых случаях прикладные соображения могут диктовать опредёленные предпочтения, приводящие к выбору некоторой \"центральной\" точки информационного множества.\n",
    "\n",
    "Возможными кандидатами на роль такого центра могут служить:\n",
    "\n",
    "* центр наибольшей диагонали информационного множества\n",
    "$$\\hat{\\beta}_{\\text{maxdiag}} = 0.5(b_1 + b_2),$$\n",
    "\n",
    "* центр тяжести информационного множества\n",
    "$$\\hat{\\beta}_{\\text{gravity}} = \\frac{1}{5} \\sum_{i=1}^5 b_i.$$\n",
    "\n",
    "Отметим, что в рассматриваемом случае все эти оценки практически совпадают и, кроме того, к ним также близка и оценка метода наименьших квадратов $\\hat{\\beta}_{\\text{LSM}}$ (которая в общем случае может и не принадлежать информационному множеству).\n",
    "\n",
    "Существуют и другие варианты построения центроидов информационного множества.\n"
   ]
  },
  {
   "cell_type": "code",
   "execution_count": 7,
   "metadata": {},
   "outputs": [
    {
     "name": "stdout",
     "output_type": "stream",
     "text": [
      "b_maxdiag =\n",
      "\n",
      "  -25.000   12.750\n",
      "\n",
      "b_gravity =\n",
      "\n",
      "  -24.500   12.625\n",
      "\n",
      "b_lsm =\n",
      "\n",
      "  -24.667   12.750\n",
      "\n"
     ]
    }
   ],
   "source": [
    "## Точечные оценки параметров \n",
    "b_maxdiag = (b1 + b2) / 2    # как середина наибольшей диагонали информационного множества\n",
    "\n",
    "b_gravity = mean(vertices)   # как центр тяжести информационного множества \n",
    "\n",
    "b_lsm = (X \\ y)'             # методом наименьших квадратов\n"
   ]
  },
  {
   "cell_type": "code",
   "execution_count": 8,
   "metadata": {},
   "outputs": [
    {
     "data": {
      "image/png": "[encoded data removed]",
      "text/plain": [
       "<IPython.core.display.Image object>"
      ]
     },
     "metadata": {},
     "output_type": "display_data"
    }
   ],
   "source": [
    "## Графическое представление внешней интервальной оценки информационного множества\n",
    "figure(1, 'position',[0, 0, 800, 600]);\n",
    "ir_plotbeta(irp_steam)\n",
    "hold on\n",
    "ir_plotrect(b_int,'r-')\n",
    "grid on\n",
    "set(gca, 'fontsize', 12)\n",
    "xlabel('\\beta_1')\n",
    "ylabel('\\beta_2')\n",
    "title('Information set')\n",
    "\n",
    "## Точечные оценки\n",
    "plot(b_maxdiag(1), b_maxdiag(2), 'ro')\n",
    "plot(b_gravity(1), b_gravity(2), 'k+')\n",
    "plot(b_lsm(1), b_lsm(2), 'gx')"
   ]
  },
  {
   "cell_type": "markdown",
   "metadata": {},
   "source": [
    "## Коридор совместных зависимостей\n",
    "\n",
    "Информационное множество задачи определяется в пространстве параметров. Каждая его точка $(\\beta_1,\\beta_2)$  задаёт зависимость в пространстве переменных $(x, y)$. Множество всех таких моделей именуется **коридором совместных зависимостей**. "
   ]
  },
  {
   "cell_type": "code",
   "execution_count": 9,
   "metadata": {},
   "outputs": [
    {
     "data": {
      "image/png": "[encoded data removed]",
      "text/plain": [
       "<IPython.core.display.Image object>"
      ]
     },
     "metadata": {},
     "output_type": "display_data"
    }
   ],
   "source": [
    "## Графическое представление коридора совместных зависимостей для модели y = beta1 + beta2 * x\n",
    "figure(1, 'position',[0, 0, 800, 600]);\n",
    "xlimits = [0 25];\n",
    "ir_plotmodelset(irp_steam, xlimits)     # коридор совместных зависимостей\n",
    "hold on\n",
    "ir_scatter(irp_steam,'bo')              # интервальные измерения\n",
    "ir_plotline(b_maxdiag, xlimits, 'r-')   # зависимость с параметрами, оцененными как центр наибольшей диагонали ИМ\n",
    "#ir_plotline(b_gravity, xlim, 'b--')     # зависимость с параметрами, оцененными как центр тяжести ИМ  \n",
    "#ir_plotline(b_lsm, xlim, 'b--')         # зависимость с параметрами, оцененными МНК\n",
    "#ir_scatter(ir_problem(Xp,ypmid,yprad),'ro')\n",
    "\n",
    "grid on\n",
    "set(gca, 'fontsize', 12)\n",
    "xlabel('Fuel consumtion')\n",
    "ylabel('Steam quantity')\n",
    "title('Set of models compatible with data and constraints')"
   ]
  },
  {
   "cell_type": "markdown",
   "metadata": {},
   "source": [
    "## Прогноз значений выходной переменной\n",
    "\n",
    "Пожалуй, главным предназначением регрессионной модели является предсказание значений выходной переменной для заданных значений входной.\n",
    "\n",
    "С помощью построенной выше модели $$\\mathbf{y}(x) = [-56.5, 6.5] + [10.625, 14.875] x$$ можно получить прогнозные значения выходной переменной в точках эксперимента:"
   ]
  },
  {
   "cell_type": "code",
   "execution_count": 10,
   "metadata": {},
   "outputs": [
    {
     "name": "stdout",
     "output_type": "stream",
     "text": [
      "yp0 =\n",
      "\n",
      "   122.00   134.00\n",
      "   171.00   187.50\n",
      "   219.00   241.00\n",
      "\n",
      "yp0mid =\n",
      "\n",
      "   128.00\n",
      "   179.25\n",
      "   230.00\n",
      "\n",
      "yp0rad =\n",
      "\n",
      "    6.0000\n",
      "    8.2500\n",
      "   11.0000\n",
      "\n",
      "yp0rad_rel =\n",
      "\n",
      "   4.6875\n",
      "   4.6025\n",
      "   4.7826\n",
      "\n"
     ]
    }
   ],
   "source": [
    "## Значения y, предсказанные с помощью модели y = beta1 + beta2 * x в точках эксперимента\n",
    "yp0 = ir_predict(X, irp_steam)       # интервальный прогноз значений y в точках x\n",
    "\n",
    "yp0mid = mean(yp0,2)                 # средние значения прогнозных интервалов\n",
    "yp0rad = 0.5 * (yp0(:,2) - yp0(:,1)) # радиус прогнозных интервалов\n",
    "\n",
    "yp0rad_rel = 100 * yp0rad ./ yp0mid  # относительная величина неопределенности прогнозов в процентах"
   ]
  },
  {
   "cell_type": "markdown",
   "metadata": {},
   "source": [
    "Соотношение прогнозных и исходных интервалов в исходных точках измерений является одним из показателей качества построенной модели. \n",
    "\n",
    "Однако ценность модели заключается в возможности её употребления для предсказания выходной переменной в точках, где измерения не производились. "
   ]
  },
  {
   "cell_type": "code",
   "execution_count": 11,
   "metadata": {},
   "outputs": [
    {
     "name": "stdout",
     "output_type": "stream",
     "text": [
      "xp =\n",
      "\n",
      "   10.000\n",
      "   15.000\n",
      "   17.500\n",
      "   22.500\n",
      "\n",
      "yp =\n",
      "\n",
      "    92.250   112.750\n",
      "   158.750   174.125\n",
      "   189.000   207.562\n",
      "   245.563   278.187\n",
      "\n",
      "ypmid =\n",
      "\n",
      "   102.50\n",
      "   166.44\n",
      "   198.28\n",
      "   261.88\n",
      "\n",
      "yprad =\n",
      "\n",
      "   10.2500\n",
      "    7.6875\n",
      "    9.2812\n",
      "   16.3125\n",
      "\n",
      "yprad_relative =\n",
      "\n",
      "   10.0000\n",
      "    4.6189\n",
      "    4.6809\n",
      "    6.2291\n",
      "\n"
     ]
    }
   ],
   "source": [
    "## Значения y, предсказанные с помощью модели y = beta1 + beta2 * x\n",
    "xp = [10; 15; 17.5; 22.5]\n",
    "Xp = [xp.^0 xp];\n",
    "\n",
    "yp = ir_predict(Xp, irp_steam)         # интервальный прогноз значений y в точках xp\n",
    "ypmid = mean(yp,2)                     # средние значения прогнозных интервалов\n",
    "yprad = 0.5 * (yp(:,2) - yp(:,1))      # радиус прогнозных интервалов\n",
    "\n",
    "yprad_relative = 100 * yprad ./ ypmid  # относительная величина неопределенности прогнозов в процентах"
   ]
  },
  {
   "cell_type": "markdown",
   "metadata": {},
   "source": [
    "Следует обратить внимание, что величина неопределённости прогнозов растёт по мере удаления от области, в которой производились исходные измерения. Это обусловлено видом коридора зависимостей, расширяющимся за пределами области измерений, и согласуется со здравым смыслом."
   ]
  },
  {
   "cell_type": "code",
   "execution_count": 12,
   "metadata": {},
   "outputs": [
    {
     "data": {
      "image/png": "[encoded data removed]",
      "text/plain": [
       "<IPython.core.display.Image object>"
      ]
     },
     "metadata": {},
     "output_type": "display_data"
    }
   ],
   "source": [
    "## Коридор совместных зависимостей для модели y = beta2 * x\n",
    "ir_plotmodelset(irp_steam,xlimits)\n",
    "grid on\n",
    "hold on\n",
    "ir_scatter(irp_steam,'bo')\n",
    "ir_scatter(ir_problem(Xp,ypmid,yprad),'r.')\n",
    "xlabel('Fuel consumtion')\n",
    "ylabel('Steam quantity')\n",
    "title('Set of models compatible with data and constraints')"
   ]
  },
  {
   "cell_type": "markdown",
   "metadata": {},
   "source": [
    "## Уточнение структуры модели\n",
    "\n",
    "Анализируя полученные интервальные оценки параметров и геометрическое представление множества $B$, можно прийти к выводу, что в угловых точках $b_1$ и $b_2$ оценка параметра $\\beta_1$ имеет разные знаки и, следовательно, правомерно принятие гипотезы $H_0: \\beta_1 = 0$.\n",
    "\n",
    "Используя более простую структуру модели $y = \\beta_2 x$ (без коэффициента $\\beta_1$) и данные эксперимента, получаем следующую систему неравенств: \n",
    "\n",
    "$$122 \\leq 12 \\beta_2 \\leq 134,$$\n",
    "$$171 \\leq 16 \\beta_2 \\leq 189,$$\n",
    "$$230 \\leq 20 \\beta_2 \\leq 241,$$\n",
    "$$0 \\leq \\beta_2,$$\n",
    "\n",
    "Решение новой задачи построения интервальной регрессии дает существенно более узкие интервальные оценки параметра $\\beta_2$. "
   ]
  },
  {
   "cell_type": "code",
   "execution_count": 13,
   "metadata": {},
   "outputs": [
    {
     "name": "stdout",
     "output_type": "stream",
     "text": [
      "b_int2 =\n",
      "\n",
      "   10.950   11.167\n",
      "\n",
      "b_rad2 =  0.10833\n",
      "b_mid2 =  11.058\n",
      "b_lsm2 =  11.270\n",
      "b_rad2_rel =  0.97965\n"
     ]
    }
   ],
   "source": [
    "## Определить задачу интервальной регрессии y = beta2 * x с ограничением beta2 >= 0\n",
    "lb = [0];\n",
    "irp_steam2 = ir_problem(x, y, epsilon, lb);    # описание задачи интервальной регрессии\n",
    "\n",
    "## Внешняя интервальная оценка параметра модели y = beta2 * x \n",
    "b_int2 = ir_outer(irp_steam2)          # интервальная оценка \n",
    "b_rad2 = 0.5 * (b_int2(2) - b_int2(1)) # ширина интервальной оценки\n",
    "b_mid2 = mean(b_int2)                  # центр интервала как точечная оценка параметра beta2\n",
    "\n",
    "## Оценка параметра beta2 методом наименьших квадратов\n",
    "b_lsm2 = x \\ y  \n",
    "\n",
    "b_rad2_rel = 100 * b_rad2 / b_mid2     # относительная точность оценки параметра в процентах"
   ]
  },
  {
   "cell_type": "markdown",
   "metadata": {},
   "source": [
    "Как видно, интервальная оценка параметра $\\mathbf{\\beta}_2 = [10.95, 11.17]$ надёжно идентифицирует знак параметра $\\beta_2$  и соответствует требуемому условию $\\beta_2 \\geq 0$. При этом ширина интервальной оценки относительно невелика: $\\overline{\\beta_2} - \\underline{\\beta_2} = 0.2$.\n",
    "\n",
    "В качестве точечной оценки коэффициента $\\beta_2$ целесообразно взять оценку $\\text{mid}\\;{\\mathbf{\\beta}_2} = 11.058,$ соответствующую середине интервала.\n",
    "\n",
    "Относительная ошибка оценивания параметра $\\beta_2$ с использованием этой точечной оценки составляет ~1%, что в пять раз меньше относительной ошибки измерения выходной величины.\n",
    "\n",
    "Заметим, что МНК-оценка параметра $\\beta_2,$ вычисленная по средним значениям $y_i$ и равная 11.27, не попадает в интервал $[10.95, 11.17]$ возможных значений $\\beta_2$ и не укладывается в сделанные допущения.\n",
    "\n",
    "С помощью построенной уточнённой модели можно получить прогнозные значения выходной переменной в точках эксперимента:"
   ]
  },
  {
   "cell_type": "code",
   "execution_count": 14,
   "metadata": {},
   "outputs": [
    {
     "name": "stdout",
     "output_type": "stream",
     "text": [
      "xp =\n",
      "\n",
      "   12\n",
      "   16\n",
      "   20\n",
      "\n",
      "yp2 =\n",
      "\n",
      "   131.40   134.00\n",
      "   175.20   178.67\n",
      "   219.00   223.33\n",
      "\n",
      "yp2mid =\n",
      "\n",
      "   132.70\n",
      "   176.93\n",
      "   221.17\n",
      "\n",
      "yp2rad =\n",
      "\n",
      "   1.3000\n",
      "   1.7333\n",
      "   2.1667\n",
      "\n",
      "yp2rad_rel =\n",
      "\n",
      "   0.0097965\n",
      "   0.0097965\n",
      "   0.0097965\n",
      "\n"
     ]
    }
   ],
   "source": [
    "## Значения y, предсказанные с помощью модели y = beta2 * x\n",
    "xp = [12; 16; 20] \n",
    "yp2 = ir_predict(xp, irp_steam2)      # интервальный прогноз значений y в точках xp\n",
    "yp2mid = mean(yp2,2)                  # средние значения прогнозных интервалов\n",
    "yp2rad = 0.5 * (yp2(:,2) - yp2(:,1))  # радиус прогнозных интервалов\n",
    "\n",
    "yp2rad_rel = yp2rad ./ yp2mid         # относительная величина неопределенности прогнозов в процентах"
   ]
  },
  {
   "cell_type": "code",
   "execution_count": 15,
   "metadata": {},
   "outputs": [
    {
     "data": {
      "image/png": "[encoded data removed]",
      "text/plain": [
       "<IPython.core.display.Image object>"
      ]
     },
     "metadata": {},
     "output_type": "display_data"
    }
   ],
   "source": [
    "## Коридор совместных зависимостей для модели y = beta2 * x\n",
    "ir_plotmodelset(irp_steam2,xlimits)\n",
    "grid on\n",
    "hold on\n",
    "ir_scatter(irp_steam2,'bo')\n",
    "ir_scatter(ir_problem(xp,yp2mid,yp2rad),'r.')\n",
    "xlabel('Fuel consumtion')\n",
    "ylabel('Steam quantity')\n",
    "title('Set of models compatible with data and constraints')"
   ]
  },
  {
   "cell_type": "markdown",
   "metadata": {},
   "source": [
    "Таким образом, по результатам трех интервальных измерений получена достаточно точная и удовлетворяющая физическим ограничениям модель агрегата в виде\n",
    "\n",
    "$$\\mathbf{y}(x) = [10.95, 11.17] x.$$"
   ]
  },
  {
   "cell_type": "markdown",
   "metadata": {},
   "source": [
    "<a id='refs'></a>\n",
    "## Список литературы\n",
    "\n",
    "1. 1. <a id='VoschininSotirov1989'></a> Вощинин А.П., Сотиров Г.Р. Оптимизация в условиях неопределенности. М.: Изд-во МЭИ; София: Техника, 1989. -- 224 с. \n",
    "\n"
   ]
  }
 ],
 "metadata": {
  "kernelspec": {
   "display_name": "Octave",
   "language": "octave",
   "name": "octave"
  },
  "language_info": {
   "file_extension": ".m",
   "help_links": [
    {
     "text": "GNU Octave",
     "url": "https://www.gnu.org/software/octave/support.html"
    },
    {
     "text": "Octave Kernel",
     "url": "https://github.com/Calysto/octave_kernel"
    },
    {
     "text": "MetaKernel Magics",
     "url": "https://metakernel.readthedocs.io/en/latest/source/README.html"
    }
   ],
   "mimetype": "text/x-octave",
   "name": "octave",
   "version": "5.2.0"
  }
 },
 "nbformat": 4,
 "nbformat_minor": 4
}
