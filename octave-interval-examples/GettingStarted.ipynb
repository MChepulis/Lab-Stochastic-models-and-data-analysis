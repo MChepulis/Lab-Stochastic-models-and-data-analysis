{
 "cells": [
  {
   "cell_type": "markdown",
   "metadata": {},
   "source": [
    "# Начало работы с пакетом interval в Octave\n",
    "\n",
    "Для использования переменных интервального типа, связанных с ним операторов и функций необходимо загрузить пакет `interval`."
   ]
  },
  {
   "cell_type": "code",
   "execution_count": 3,
   "metadata": {},
   "outputs": [],
   "source": [
    "pkg load interval"
   ]
  },
  {
   "cell_type": "markdown",
   "metadata": {},
   "source": [
    "## Конструкторы интервальных переменных\n",
    "\n",
    "Пакет 'interval' содержит многочисленные конструкторы интервалов, порождающие интервал \n",
    "* по единственному числу, \n",
    "* паре чисел, задающих концы интервала \n",
    "* центру и радиусу интервала\n",
    "* строковому представлению интервала\n",
    "* и т.д."
   ]
  },
  {
   "cell_type": "code",
   "execution_count": 3,
   "metadata": {},
   "outputs": [
    {
     "name": "stdout",
     "output_type": "stream",
     "text": [
      "a = [1]\r\n"
     ]
    }
   ],
   "source": [
    "## Интервал на основе действительного числа с совападающими концами\n",
    "a = infsup(1) "
   ]
  },
  {
   "cell_type": "code",
   "execution_count": 21,
   "metadata": {},
   "outputs": [
    {
     "name": "stdout",
     "output_type": "stream",
     "text": [
      "b = [1, 2]\r\n"
     ]
    }
   ],
   "source": [
    "## Интервал с заданными границами\n",
    "b = infsup(1, 2)"
   ]
  },
  {
   "cell_type": "code",
   "execution_count": 17,
   "metadata": {},
   "outputs": [
    {
     "name": "stdout",
     "output_type": "stream",
     "text": [
      "c = [3, 4]\r\n"
     ]
    }
   ],
   "source": [
    "## Граничные значения инетрвала могут быть заданы строками\n",
    "c = infsup(\"3\", \"4\")"
   ]
  },
  {
   "cell_type": "code",
   "execution_count": 18,
   "metadata": {},
   "outputs": [
    {
     "name": "stdout",
     "output_type": "stream",
     "text": [
      "d ⊂ [1.0999, 1.1001]\r\n"
     ]
    }
   ],
   "source": [
    "## Для числа, непредставимого числовым типом с плавающей точкой, \n",
    "## порождается интервал с представимыми границами, охватывающий это число \n",
    "d = infsup(\"1.1\")"
   ]
  },
  {
   "cell_type": "code",
   "execution_count": 19,
   "metadata": {},
   "outputs": [
    {
     "name": "stdout",
     "output_type": "stream",
     "text": [
      "e ⊂ [5.7999e-17, 5.8001e-17]\r\n"
     ]
    }
   ],
   "source": [
    "## Входные числа могут задаваться в экспоненциальной форме \n",
    "e = infsup(\"5.8e-17\")"
   ]
  },
  {
   "cell_type": "code",
   "execution_count": 22,
   "metadata": {},
   "outputs": [
    {
     "name": "stdout",
     "output_type": "stream",
     "text": [
      "f = [9, 15]_com\r\n"
     ]
    }
   ],
   "source": [
    "## Интрвал с центром в точке 12 и радиусом 3\n",
    "f = midrad (12, 3)"
   ]
  },
  {
   "cell_type": "code",
   "execution_count": 12,
   "metadata": {},
   "outputs": [
    {
     "name": "stdout",
     "output_type": "stream",
     "text": [
      "g ⊂ [4.1989, 4.2011]_com\r\n"
     ]
    }
   ],
   "source": [
    "## То же для нецелых чисел\n",
    "g = midrad (\"4.2\", \"1e-3\")"
   ]
  },
  {
   "cell_type": "code",
   "execution_count": 13,
   "metadata": {},
   "outputs": [
    {
     "name": "stdout",
     "output_type": "stream",
     "text": [
      "h1 ⊂ [-2.3001, +42]_com\r\n"
     ]
    }
   ],
   "source": [
    "## Интервал, озватывающий значения, перечисленные в произвольном порядке\n",
    "h1 = hull (3, 42, \"19.3\", \"-2.3\")"
   ]
  },
  {
   "cell_type": "code",
   "execution_count": 14,
   "metadata": {},
   "outputs": [
    {
     "name": "stdout",
     "output_type": "stream",
     "text": [
      "h2 ⊂ [2.7182, 3.1416]_com\r\n"
     ]
    }
   ],
   "source": [
    "## Интервал для именованных констант\n",
    "h2 = hull (\"pi\", \"e\")"
   ]
  },
  {
   "cell_type": "code",
   "execution_count": 24,
   "metadata": {},
   "outputs": [
    {
     "name": "stdout",
     "output_type": "stream",
     "text": [
      "ans = [20, 4.2e+10]\r\n"
     ]
    }
   ],
   "source": [
    "## Интервал по строковой записи\n",
    "infsup (\"[20, 4.2e10]\")"
   ]
  },
  {
   "cell_type": "markdown",
   "metadata": {},
   "source": [
    "## Интервальные векторы и матрицы \n",
    "Векторы, матрицы и массивы интервалов могут быть созданы с помощью функций-конструкторов интервалов, если на вход им подать числовые массивы, строки или массивы ячеек (cell arrays). Элементы массивов ячеек могут иметь различные типы, что иногда оказвается удобным.\n",
    "\n",
    "Интервальные массивы ведут себя обычные массивы Octave и могут использоваться для расширения (broadcasting) векторизации вычислений.\n",
    "\n",
    "Создадим интервальные массивы."
   ]
  },
  {
   "cell_type": "code",
   "execution_count": 28,
   "metadata": {},
   "outputs": [
    {
     "name": "stdout",
     "output_type": "stream",
     "text": [
      "M1 = 3×3 interval matrix\r\n",
      "\r\n",
      "   [8]   [1]   [6]\r\n",
      "   [3]   [5]   [7]\r\n",
      "   [4]   [9]   [2]\r\n",
      "\r\n"
     ]
    }
   ],
   "source": [
    "M1 = infsup(magic (3))"
   ]
  },
  {
   "cell_type": "code",
   "execution_count": 29,
   "metadata": {},
   "outputs": [
    {
     "name": "stdout",
     "output_type": "stream",
     "text": [
      "M2 = 3×3 interval matrix\r\n",
      "\r\n",
      "   [8, 9]    [1, 2]   [6, 7]\r\n",
      "   [3, 4]    [5, 6]   [7, 8]\r\n",
      "   [4, 5]   [9, 10]   [2, 3]\r\n",
      "\r\n"
     ]
    }
   ],
   "source": [
    "M2 = infsup(magic (3), magic (3) + 1)"
   ]
  },
  {
   "cell_type": "code",
   "execution_count": 31,
   "metadata": {},
   "outputs": [
    {
     "name": "stdout",
     "output_type": "stream",
     "text": [
      "V1 = 2×3 interval matrix\r\n",
      "\r\n",
      "   [1]_com   [2, 3]_com   [Empty]_trv\r\n",
      "   [4]_com      [5]_com       [6]_com\r\n",
      "\r\n"
     ]
    }
   ],
   "source": [
    "M3 = infsupdec(\"1 [2, 3]; 4, 5, 6\")"
   ]
  },
  {
   "cell_type": "code",
   "execution_count": 32,
   "metadata": {},
   "outputs": [
    {
     "name": "stdout",
     "output_type": "stream",
     "text": [
      "M4 ⊂ 4×1 interval vector\r\n",
      "\r\n",
      "              [1, 2]_com\r\n",
      "     [2.2204e-16, 1]_com\r\n",
      "   [0.57142, 2.7183]_com\r\n",
      "       [3.1415, 255]_com\r\n",
      "\r\n"
     ]
    }
   ],
   "source": [
    "M4 = infsupdec({1; eps; \"4/7\"; \"pi\"}, {2; 1; \"e\"; \"0xff\"})"
   ]
  },
  {
   "cell_type": "code",
   "execution_count": 7,
   "metadata": {},
   "outputs": [
    {
     "name": "stdout",
     "output_type": "stream",
     "text": [
      "M5 = 2×2×2 interval array\r\n",
      "\r\n",
      "ans(:,:,1) =\r\n",
      "\r\n",
      "   [1]_com   [1]_com\r\n",
      "   [1]_com   [1]_com\r\n",
      "\r\n",
      "ans(:,:,2) =\r\n",
      "\r\n",
      "   [1]_com   [1]_com\r\n",
      "   [1]_com   [1]_com\r\n",
      "\r\n"
     ]
    }
   ],
   "source": [
    "M5 = infsupdec(ones (2, 2, 2))"
   ]
  },
  {
   "cell_type": "markdown",
   "metadata": {},
   "source": [
    "Текстовое представление также может быть использовано для задания интервальных массивов (матриц). При этом злементы строк матриц в нем разделяются запятыми, а строки матриц - точкой с запятой. К сожалению, этот способ не позволяет описывать массивы размерности выше двух. В таких случаях в конструктор можно передавать  многомерные числовые масиивы или массивы ячеек. Еще один вариант - задавать многомерные массивы по частям."
   ]
  },
  {
   "cell_type": "code",
   "execution_count": 5,
   "metadata": {},
   "outputs": [
    {
     "name": "stdout",
     "output_type": "stream",
     "text": [
      "A = 3×2 interval matrix\n",
      "\n",
      "   [1]_com   [2, 3]_com\n",
      "   [4]_com      [5]_com\n",
      "   [6]_com      [7]_com\n",
      "\n",
      "A ⊂ 3×2×2 interval array\n",
      "\n",
      "ans(:,:,1) =\n",
      "\n",
      "   [1]_com   [2, 3]_com\n",
      "   [4]_com      [5]_com\n",
      "   [6]_com      [7]_com\n",
      "\n",
      "ans(:,:,2) =\n",
      "\n",
      "   [0.099999, 0.10001]_com   [0.19999, 0.20001]_com\n",
      "    [0.29999, 0.30001]_com   [0.39999, 0.40001]_com\n",
      "                 [0.5]_com   [0.59999, 0.60001]_com\n",
      "\n"
     ]
    }
   ],
   "source": [
    "A = infsupdec (\"1 [2, 3]; 4, 5; 6, 7\")\n",
    "A(:,:,2) = infsupdec (\"0.1, 0.2; 0.3, 0.4; 0.5, 0.6\")"
   ]
  },
  {
   "cell_type": "markdown",
   "metadata": {},
   "source": [
    "## Классическая интервальная арифметика\n",
    "\n",
    "Пакет interval включает множество интервальных арифметических операций и функций. Их полный перечень приведен в [документации](https://octave.sourceforge.io/interval/package_doc/Function-Names.html#Function-Names) к пакету. Имена функций по большей части соответствуют стандарту IEEE 1788-2015. "
   ]
  },
  {
   "cell_type": "markdown",
   "metadata": {},
   "source": [
    "Для интервальных арифметических операций развёрнутое\n",
    "определение задаётся следующими формулами:\n",
    "\n",
    "$\\mathbf{a} + \\mathbf{b} = [\\underline{\\mathbf{a}} + \\underline{\\mathbf{b}},\\ \\overline{\\mathbf{a}} + \\overline{\\mathbf{b}}],$\n",
    "\n",
    "$\\mathbf{a} - \\mathbf{b} = [\\underline{\\mathbf{a}} - \\overline{\\mathbf{b}},\\ \\overline{\\mathbf{a}} - \\underline{\\mathbf{b}}],$\n",
    "\n",
    "$\\mathbf{a} \\cdot \\mathbf{b} = [\\min(\\underline{\\mathbf{a}} \\cdot \\underline{\\mathbf{b}}, \\underline{\\mathbf{a}} \\cdot \\overline{\\mathbf{b}}, \\overline{\\mathbf{a}} \\cdot \\underline{\\mathbf{b}}, \\overline{\\mathbf{a}} \\cdot \\overline{\\mathbf{b}}),\\ \\max(\\underline{\\mathbf{a}} \\cdot \\underline{\\mathbf{b}}, \\underline{\\mathbf{a}} \\cdot \\overline{\\mathbf{b}}, \\overline{\\mathbf{a}} \\cdot \\underline{\\mathbf{b}}, \\overline{\\mathbf{a}} \\cdot \\overline{\\mathbf{b}})],$\n",
    "\n",
    "$\\mathbf{a}\\; / \\; \\mathbf{b} = \\mathbf{a} \\cdot [1\\;/\\;\\overline{\\mathbf{b}},\\ 1\\;/\\;\\underline{\\mathbf{b}}] \\quad \\mbox{для} \\quad \\mathbf{b} \\not\\owns 0.$ \n"
   ]
  },
  {
   "cell_type": "code",
   "execution_count": 5,
   "metadata": {},
   "outputs": [
    {
     "name": "stdout",
     "output_type": "stream",
     "text": [
      "a = [1, 2]\n",
      "b = [3, 4]\n",
      "s = [4, 6]\n",
      "d = [-3, -1]\n",
      "m = [3, 8]\n",
      "r ⊂ [0.25, 0.66667]\n"
     ]
    }
   ],
   "source": [
    "## Определим два интервала\n",
    "a = infsup(1,2)\n",
    "b = infsup(3,4)\n",
    "\n",
    "## Результаты операций\n",
    "s = a + b\n",
    "d = a - b\n",
    "m = a * b\n",
    "r = a / b"
   ]
  },
  {
   "cell_type": "markdown",
   "metadata": {},
   "source": [
    "Примеры использования интервальных функций."
   ]
  },
  {
   "cell_type": "code",
   "execution_count": 3,
   "metadata": {},
   "outputs": [
    {
     "name": "stdout",
     "output_type": "stream",
     "text": [
      "ans ⊂ [0.47942, 0.47943]_com\n",
      "ans = [8, 16]_com\n",
      "ans ⊂ [0.78539, 0.7854]_com\n",
      "ans = 3×3 interval matrix\n",
      "\n",
      "   [13.5, 16.5]_com   [25, 31]_com   [42, 52]_com\n",
      "   [13.5, 16.5]_com   [31, 37]_com   [55, 65]_com\n",
      "   [13.5, 16.5]_com   [25, 31]_com   [38, 48]_com\n",
      "\n"
     ]
    }
   ],
   "source": [
    "sin (infsupdec (0.5))\n",
    "\n",
    "power (infsupdec (2), infsupdec (3, 4))\n",
    "\n",
    "atan2 (infsupdec (1), infsupdec (1))\n",
    "\n",
    "midrad (magic (3), 0.5) * pascal (3)\n"
   ]
  },
  {
   "cell_type": "code",
   "execution_count": 1,
   "metadata": {},
   "outputs": [
    {
     "data": {
      "image/png": "[encoded data removed]",
      "text/plain": [
       "<IPython.core.display.Image object>"
      ]
     },
     "metadata": {},
     "output_type": "display_data"
    }
   ],
   "source": [
    "clf;\n",
    " x = 0:0.5:2*pi;\n",
    " err = x/30;\n",
    " y1 = sin (x);\n",
    " y2 = cos (x);\n",
    " errorbar (x, y1, err, err, err, err, \"~>\", ...\n",
    "           x, y2, err, err, err, err, \"#~>-*\");\n",
    " legend (\"X-Y errbars\", \"X-Y errboxes\");\n",
    " title (\"errorbar() with X-Y errorbars and error boxes\");"
   ]
  },
  {
   "cell_type": "code",
   "execution_count": 12,
   "metadata": {},
   "outputs": [
    {
     "name": "stdout",
     "output_type": "stream",
     "text": [
      "intervals ⊂ 6×1 interval vector\r\n",
      "\r\n",
      "            [1, 2]\r\n",
      "            [3, 4]\r\n",
      "            [4, 6]\r\n",
      "          [-3, -1]\r\n",
      "            [3, 8]\r\n",
      "   [0.25, 0.66667]\r\n",
      "\r\n"
     ]
    },
    {
     "data": {
      "image/png": "[encoded data removed]",
      "text/plain": [
       "<IPython.core.display.Image object>"
      ]
     },
     "metadata": {},
     "output_type": "display_data"
    }
   ],
   "source": [
    "intervals = [a; b; s; d; m; r]\n",
    "\n",
    "#intervals.inf\n",
    "#intervals.sup\n",
    "\n",
    "errorbar (1:6, mid(intervals), wid(intervals),\"~\");\n",
    "#legend (\"Интервальная неопределенгость по Y\");\n",
    "#title (\"Интервальная неопределенность по Y\");\n",
    "title (\"Interval uncertainty on Y\");"
   ]
  }
 ],
 "metadata": {
  "kernelspec": {
   "display_name": "Octave",
   "language": "octave",
   "name": "octave"
  },
  "language_info": {
   "file_extension": ".m",
   "help_links": [
    {
     "text": "GNU Octave",
     "url": "https://www.gnu.org/software/octave/support.html"
    },
    {
     "text": "Octave Kernel",
     "url": "https://github.com/Calysto/octave_kernel"
    },
    {
     "text": "MetaKernel Magics",
     "url": "https://metakernel.readthedocs.io/en/latest/source/README.html"
    }
   ],
   "mimetype": "text/x-octave",
   "name": "octave",
   "version": "4.2.2"
  }
 },
 "nbformat": 4,
 "nbformat_minor": 4
}
