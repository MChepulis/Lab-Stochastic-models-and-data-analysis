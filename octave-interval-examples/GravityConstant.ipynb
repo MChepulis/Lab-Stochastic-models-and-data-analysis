{
 "cells": [
  {
   "cell_type": "markdown",
   "metadata": {},
   "source": [
    "# Гравитационная постоянная\n",
    "\n",
    "Одной из самых известных и самых важных физических констант является гравитационная константа \t$G$, которая фигурирует в законе всемирного тяготения. История её измерений продолжается уже более двух столетий, и её результаты нетривиальны для интерпретации. \n",
    "Доступное неспециалисту описание измерений содержатся в публикации [[1]](#elementy2013). Также в ней содержится обсуждение ситуации с несовместностью результатов различных измерений.\n",
    "\n",
    "По мере развития экспериментальных методик, точность измерений постепенно улучшается. Однако получающиеся интервалы значений  гравитационной константы не пересекаются друг с другом.\n",
    "\n",
    "\n",
    "\n",
    "## Набор данных\n",
    "\n",
    "Данные для набора получены из обзора [[2]](#GraviConstItaly) и оригинальных публикаций [[3]](#GraviConst1982)-[[15]](#GraviConstChina). В работе [[15]](#GraviConstChina) гравитационная константа измеряется двумя методами, при этом измерения несовместны. В таблице  приведены экспериментальные значения $G$ их стандартное отклонение случайной погрешности и оценка систематической ошибки. \n",
    "\n",
    "| # | G $\\pm$ стат. погрешность $\\pm$ сист. погрешность |  Ссылка |\n",
    "| :---: |:------- | :--------: |\n",
    "| 1 | $6.6726 \\pm 0.0005$ | [[3]](#GraviConst1982)  |\n",
    "| 2 | $6.6729 \\pm 0.0005$ | [[4]](#GraviConst1996)  |\n",
    "| 3 | $6.6740 \\pm 0.0007 $ | [[5]](#GraviConst1997)  |\n",
    "| 4 | $6.674215 \\pm 0.000092 $ |  [[6]](#GraviConst2000)  |\n",
    "| 5 | $6.67559 \\pm 0.00027 \\pm 0.000041 $  |  [[7]](#GraviConst2001)  |\n",
    "| 6 | $6.67422 \\pm 0.00049 \\pm  0.00085$ |  [[8]](#GraviConst2002)  |\n",
    "| 7 | $6.67387 \\pm 0.00027 $ |  [[9]](#GraviConst2003)  |\n",
    "| 8 | $6.6723 \\pm 0.0009 $ |  [[10]](#GraviConst2005)  |\n",
    "| 9 | $6.674252  \\pm 0.0000016  \\pm 0.0000081 $ |  [[11]](#GraviConst2006)  |\n",
    "| 10 | $6.67349(18) \\pm 0.000026  $ | [[12]](#GraviConst2009)  |\n",
    "| 11 | $6.67234 \\pm 0.00014$ | [[13]](#GraviConst2010)  |\n",
    "| 12 | $6.67545(18) \\pm 0.0000027 $ | [[14]](#GraviConst2013)  |\n",
    "| 13 | $6.674184 \\pm 0.00000116  $  | [[15]](#GraviConstChina)  |\n",
    "| 14 | $6.674484 \\pm 0.00000116  $  | [[15]](#GraviConstChina)  |\n",
    "\n",
    "Интервальные измерения ниже в коде формируются как интервалы, центры которых соответствуют значениям $G$, а радиусы -- сумме стандартного отклонения и оценки систематической ошибки."
   ]
  },
  {
   "cell_type": "code",
   "execution_count": 1,
   "metadata": {},
   "outputs": [],
   "source": [
    "# Загрузка пакета для интервальных вычислений\n",
    "pkg load interval"
   ]
  },
  {
   "cell_type": "code",
   "execution_count": 2,
   "metadata": {},
   "outputs": [
    {
     "name": "stdout",
     "output_type": "stream",
     "text": [
      "G ⊂ 14×1 interval vector\r\n",
      "\r\n",
      "    [6.672, 6.6732]_com\r\n",
      "   [6.6723, 6.6735]_com\r\n",
      "   [6.6733, 6.6748]_com\r\n",
      "   [6.6741, 6.6744]_com\r\n",
      "    [6.6752, 6.676]_com\r\n",
      "   [6.6728, 6.6756]_com\r\n",
      "   [6.6735, 6.6742]_com\r\n",
      "   [6.6713, 6.6733]_com\r\n",
      "   [6.6742, 6.6743]_com\r\n",
      "   [6.6734, 6.6736]_com\r\n",
      "   [6.6722, 6.6725]_com\r\n",
      "   [6.6754, 6.6755]_com\r\n",
      "   [6.6741, 6.6742]_com\r\n",
      "   [6.6744, 6.6745]_com\r\n",
      "\r\n"
     ]
    }
   ],
   "source": [
    "# Загрузим данные \n",
    "# Значение | -Станд. отклонение | +Станд. отклонение | -Сист. погрешность | +Сист. погрешность \n",
    "load data/gravity\n",
    "\n",
    "gravity_mid = gravity.data(:,1); \n",
    "gravity_rad = gravity.data(:,2) + gravity.data(:,4); \n",
    "\n",
    "# Интервальные измерения\n",
    "G = midrad(gravity_mid, gravity_rad)"
   ]
  },
  {
   "cell_type": "code",
   "execution_count": 3,
   "metadata": {},
   "outputs": [
    {
     "data": {
      "image/png": "[encoded data removed]",
      "text/plain": [
       "<IPython.core.display.Image object>"
      ]
     },
     "metadata": {},
     "output_type": "display_data"
    }
   ],
   "source": [
    "# Графическое представление интервальных данных\n",
    "nums = 1:numel(G);\n",
    "vals = mid(G);\n",
    "err = rad(G);\n",
    "errorbar (vals, nums, err, err,\">.\");\n",
    "ylim([0 15])\n",
    "legend (\"Intervals\");\n",
    "title (\"Interval measurements of gravity constant G\");\n",
    "xlabel(\"G (10^{-11} m^{3} kg^{-1} s^{-2})\")\n",
    "ylabel(\"Measurement number\")"
   ]
  },
  {
   "cell_type": "code",
   "execution_count": 4,
   "metadata": {},
   "outputs": [
    {
     "name": "stdout",
     "output_type": "stream",
     "text": [
      "ans = [Empty]_trv\r\n"
     ]
    }
   ],
   "source": [
    "# Пересечение интервалов пусто, т.е. интервальная выборка несовместна\n",
    "intersect(G)"
   ]
  },
  {
   "cell_type": "markdown",
   "metadata": {},
   "source": [
    "<a id='refs'></a>\n",
    "## Оригинальные публикации\n",
    "\n",
    "1. <a id='elementy2013'></a> И. Иванов. *Новые измерения гравитационной постоянной ещё сильнее запутывают ситуацию (13 сентября 2013)*.  \n",
    "https://elementy.ru/novosti_nauki/432079/Novye_izmereniya_gravitatsionnoy_postoyannoy_eshche_silnee_zaputyvayut_situatsiyu \n",
    "\n",
    "2. <a id='GraviConstItaly'></a> Rosi G., Sorrentino F., Cacciapuoti L., Prevedelli M., Tino G.M. *Precision Measurement of the Newtonian Gravitational Constant Using Cold Atoms.* // [arXiv:1412.7954](https://arxiv.org/abs/1412.7954) [physics.atom-ph]\n",
    "\n",
    "3. <a id='GraviConst1982'></a>Gabriel G. Luther and William R. Towler *Redetermination of the Newtonian Gravitational Constant G* // Phys. Rev. Lett. 48, 121 – 18 January 1982.  \n",
    "DOI: [10.1103/PhysRevLett.48.121](http://doi.or/10.1103/PhysRevLett.48.121)\n",
    "\n",
    "4. <a id='GraviConst1996'></a> Karagioz, O.V., Izmailov V.P. *Measurement of the gravitational constant with a torsion balance.* // Meas Tech 39, 979–987 (1996).  \n",
    "DOI: [10.1007/BF02377461](http://doi.or/10.1007/BF02377461)\n",
    "\n",
    "5. <a id='GraviConst1997'></a> Charles H. Bagley and Gabriel G. Luther *Preliminary Results of a Determination of the Newtonian Constant of Gravitation: A Test of the Kuroda Hypothesis* // Phys. Rev. Lett. 78, 3047 – 21 April 1997  \n",
    "DOI: [10.1103/PhysRevLett.78.3047](http://doi.or/10.1103/PhysRevLett.78.3047)\n",
    "\n",
    "6. <a id='GraviConst2000'></a> Jens H. Gundlach and Stephen M. Merkowitz *Measurement of Newton's Constant Using a Torsion Balance with Angular Acceleration Feedback* // Phys. Rev. Lett. 85, 2869 – 2 October 2000  \n",
    "DOI: [10.1103/PhysRevLett.85.2869](http://doi.or/10.1103/PhysRevLett.85.2869)\n",
    "\n",
    "7. <a id='GraviConst2001'></a> Quinn T.J., Speake C.C., Richman S.J., Davis R.S.  Picard, A. *A new determination of G using two methods.* // Phys. Rev. Lett. 87, 111101 (2001).  \n",
    "DOI: [10.1103/PhysRevLett.87.111101](http://doi.or/10.1103/PhysRevLett.87.111101)\n",
    "\n",
    "8. <a id='GraviConst2002'></a> Ulf Kleinevoss *Bestimmung der Newtonschen Gravitationskonstanten G.* Wuppertal Univ., Dissertation, 2002\n",
    "\n",
    "9. <a id='GraviConst2003'></a> Armstrong T.R. and Fitzgerald M.P.} New *Measurements of G Using the Measurement Standards Laboratory Torsion Balance* // Phys. Rev. Lett. 91, 201101 – 13 November 2003  \n",
    "DOI: [10.1103/PhysRevLett.91.201101](http://doi.or/10.1103/PhysRevLett.91.201101)\n",
    "\n",
    "10. <a id='GraviConst2005'></a> Hu, Z.-K., Guo, J.-Q., Luo, J. *Correction of source mass effects in the HUST-99 measurement of G.* // Phys. Rev. D 71, 127505 (2005).  \n",
    "DOI: [10.1103/PhysRevD.71.127505](http://doi.or/10.1103/PhysRevD.71.127505)\n",
    "\n",
    "11. <a id='GraviConst2006'></a> Schlamminger St., Holzschuh E., Kündig W., Nolting F., Pixley R.E., Schurr J. and Straumann U. *Measurement of Newton’s gravitational constant* // Phys. Rev. D 74, 082001 – 4 October 2006  \n",
    "DOI: [10.1103/PhysRevD.74.082001](http://doi.or/10.1103/PhysRevD.74.082001)\n",
    "\n",
    "12. <a id='GraviConst2009'></a> Luo J., Liu O., Tu L.-C., Shao C.-G., Liu L.-X., Yang S.-Q., Li Q. and Zhang Y.-T.} *Determination of the Newtonian Gravitational Constant G with Time-of-Swing Method* // Phys. Rev. Lett. 102, 240801 – 16 June 2009  \n",
    "DOI: [10.1103/PhysRevLett.102.240801](http://doi.or/10.1103/PhysRevLett.102.240801)\n",
    "\n",
    "13. <a id='GraviConst2010'></a> Harold V. Parks and James E. Faller *Simple Pendulum Determination of the Gravitational Constant* // Phys. Rev. Lett. 105, 110801 – 7 September 2010  \n",
    "DOI: [10.1103/PhysRevLett.105.110801](http://doi.or/10.1103/PhysRevLett.105.110801)\n",
    "\n",
    "14. <a id='GraviConst2013'></a> Terry Quinn, Harold Parks, Clive Speake, and Richard Davis *Improved Determination of G Using Two Methods* // Phys. Rev. Lett. 111, 101102 – 5 September 2013  \n",
    "DOI: [10.1103/PhysRevLett.111.101102](http://doi.or/10.1103/PhysRevLett.111.101102)\n",
    "\n",
    "15. <a id='GraviConstChina'></a> Qing Li, Chao Xue, Jian-Ping Liu, et al. *Measurements of the gravitational constant using two independent methods* // Nature. 2018. Vol. 560. P. 582-588.  \n",
    "DOI: [10.1038/s41586-018-0431-5](http://doi.org/10.1038/s41586-018-0431-5) \n",
    "  "
   ]
  }
 ],
 "metadata": {
  "kernelspec": {
   "display_name": "Octave",
   "language": "octave",
   "name": "octave"
  },
  "language_info": {
   "file_extension": ".m",
   "help_links": [
    {
     "text": "GNU Octave",
     "url": "https://www.gnu.org/software/octave/support.html"
    },
    {
     "text": "Octave Kernel",
     "url": "https://github.com/Calysto/octave_kernel"
    },
    {
     "text": "MetaKernel Magics",
     "url": "https://metakernel.readthedocs.io/en/latest/source/README.html"
    }
   ],
   "mimetype": "text/x-octave",
   "name": "octave",
   "version": "5.2.0"
  }
 },
 "nbformat": 4,
 "nbformat_minor": 4
}
