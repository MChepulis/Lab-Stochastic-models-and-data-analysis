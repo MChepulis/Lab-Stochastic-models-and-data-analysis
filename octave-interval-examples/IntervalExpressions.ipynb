{
 "cells": [
  {
   "cell_type": "markdown",
   "metadata": {},
   "source": [
    "# Зависимость интервальных оценок областей значений выражений от их вида\n",
    "\n",
    "Результат вычисления арифметического выражения зависит от вида выражения, а именно от количества вхождений в него переменных. Эта особенность интервальных вычислений подробно обсуждается в первой главе книги [[1]](#SharyBook).\n",
    "\n",
    "Для иллюстрации приведём два практических примера интервальных расчётов для формул, выражающих естественнонаучные законы."
   ]
  },
  {
   "cell_type": "markdown",
   "metadata": {},
   "source": [
    "## Пример 1. Уравнение Михаэлиса-Ментен \n",
    "\n",
    "Ферменты (называемые также энзимами) играют огромную роль в процессах обмена веществ в живых организмах, намного порядков повышая скорость химических реакций. Предложенное в 1913 году [уравнение Михаэлиса-Ментен](https://ru.wikipedia.org/wiki/%D0%A3%D1%80%D0%B0%D0%B2%D0%BD%D0%B5%D0%BD%D0%B8%D0%B5_%D0%9C%D0%B8%D1%85%D0%B0%D1%8D%D0%BB%D0%B8%D1%81%D0%B0_%E2%80%94_%D0%9C%D0%B5%D0%BD%D1%82%D0%B5%D0%BD) описывает зависимость скорости реакции, катализируемой ферментом, от концентрации субстрата:\n",
    "\n",
    "<a id='MichaelisMenten'></a>\n",
    "$$\\mathrm{v} = V_{max} \\frac{S}{S+K_M}, \\hspace{3 cm}(1)$$\n",
    "\n",
    "где $\\mathrm{v}$ --- скорость реакции, $V_{max} $ --- максимальная скорость реакции, \n",
    "$K_M$ --- константа Михаэлиса, $S$ ---  концентрация субстрата. \n",
    "\n",
    "Cкорость реакции $\\mathrm{v}$ будем выражать в единицах  $V_{max}$, поэтому зададимся значением $V_{max} =  1.$  \n",
    "\n",
    "Для определённости возьмём реакцию гидролиза аденозинтрифосфата, катализируемого \n",
    "миозином $K_M = 1.44 \\cdot 10^{-4} $ моль/л. \n",
    "\n",
    "Интервальную величину $\\mathbf{S}$ положим равным $K_M$ с 10%-м радиусом. \n",
    "\n",
    "[//]:  $$\\mathbf{S} = [1.2959, 1.5841] \\cdot 10^{-4}.$$\n"
   ]
  },
  {
   "cell_type": "code",
   "execution_count": 1,
   "metadata": {},
   "outputs": [
    {
     "name": "stdout",
     "output_type": "stream",
     "text": [
      "Vmax =  1\n",
      "KM =    1.4400e-04\n",
      "S ⊂ [0.0001296, 0.00015841]\n"
     ]
    }
   ],
   "source": [
    "# Загрузка пакета для интервальных вычислений\n",
    "pkg load interval\n",
    "\n",
    "# Максимальная скорость реакции\n",
    "Vmax = 1\n",
    "\n",
    "# Константа Михаэлиса\n",
    "KM = 1.44e-4\n",
    "\n",
    "# Концентрация субстрата\n",
    "S = KM * infsup(0.9,1.1)"
   ]
  },
  {
   "cell_type": "markdown",
   "metadata": {},
   "source": [
    "Для вычисления интервальной оценки $\\mathbf{v}$, выражение [(1)](#MichaelisMenten) представим двумя способами; \n",
    "в исходном виде, и с делением числителя и знаменателя на $\\mathbf{S}$:   \n",
    "\n",
    "$$\\mathbf{v}_1 = V_{max} \\ \\frac{\\mathbf{S}}{\\mathbf{S}+K_M},$$  \n",
    "\n",
    "$$\\mathbf{v}_2 = V_{max} \\ \\frac{1}{1+K_M/\\mathbf{S}}.$$"
   ]
  },
  {
   "cell_type": "code",
   "execution_count": 2,
   "metadata": {},
   "outputs": [
    {
     "name": "stdout",
     "output_type": "stream",
     "text": [
      "v1 ⊂ [0.42857, 0.57895]\n",
      "v2 ⊂ [0.47368, 0.52381]\n"
     ]
    }
   ],
   "source": [
    "# Выражение с двумя вхождениями интервальной переменной S\n",
    "v1 = Vmax * S / (S + KM)\n",
    "\n",
    "# Выражение с одним вхождением интервальной переменной S\n",
    "v2 = Vmax / (1 + KM / S)"
   ]
  },
  {
   "cell_type": "markdown",
   "metadata": {},
   "source": [
    "Средние величины $\\mathsf{mid}\\ \\mathbf{v}_1$ и $\\mathsf{mid}\\ \\mathbf{v}_2$ обоих выражений отличаются незначительно. В то же время радиусы результатов вычислений $\\mathsf{rad}\\ \\mathbf{v}_1$ и $\\mathsf{rad}\\ \\mathbf{v}_2$ существенно различны."
   ]
  },
  {
   "cell_type": "code",
   "execution_count": 3,
   "metadata": {},
   "outputs": [
    {
     "name": "stdout",
     "output_type": "stream",
     "text": [
      "m1 =  0.50376\n",
      "m2 =  0.49875\n",
      "r1 =  0.075188\n",
      "r2 =  0.025063\n"
     ]
    }
   ],
   "source": [
    "# Середины интервальных оценок скорости реакции\n",
    "m1 = mid(v1)\n",
    "m2 = mid(v2)\n",
    "\n",
    "# Радиусы интервальных оценок скорости реакции\n",
    "r1 = rad(v1)\n",
    "r2 = rad(v2)"
   ]
  },
  {
   "cell_type": "markdown",
   "metadata": {},
   "source": [
    "В первом случае результирующий интервал `v1` шире, поскольку интервальная переменная `S` входит в выражение дважды.\n",
    "\n",
    "Во втором случае, интервальная переменная `S` входит в выражение для `v2` один раз, и согласно \n",
    "основной теореме интервальной арифметики результат интервального оценивания совпадает \n",
    "с точной областью значений выражения.\n"
   ]
  },
  {
   "cell_type": "markdown",
   "metadata": {},
   "source": [
    "## Пример 2. Полное сопротивление цепи переменного тока\n",
    "\n",
    "Полное сопротивление цепи переменного тока складывается из активной и реактивной \n",
    "составляющих, общая формула \n",
    "\n",
    "<a id='Zseq'></a>\n",
    "$$Z = \\sqrt{ R^2 + (X_L - X_C)^2 }, \\hspace{3cm} (2)$$\n",
    "\n",
    "где  $R$ --- активное сопротивление, $X_L = \\omega\\cdot L$ --- индуктивное \n",
    "сопротивление, $X_C = 1/\\omega C$ --- ёмкостное сопротивление (см., к примеру, \n",
    "[[2]](#YavorskiDetlaf)). \n",
    "\n",
    "Как будет изменяться ток в цепи переменного тока с заданными \n",
    "$R$, $L$, $C$, когда круговая частота меняется в интервале $[\\,\\omega_1, \\omega_2 ]$? \n",
    "\n",
    "Для ответа на вопрос можно воспользоваться законом Ома для цепи переменного тока\n",
    "\\begin{equation*}\n",
    "I = U/Z, \n",
    "\\end{equation*}\n",
    "но до этого необходимо найти интервал изменения $Z$.\n",
    "\n",
    "Построим интервал изменения полного сопротивления $Z$ для примера цепи двумя способами: \n",
    "* сначала с помощью содержательного анализа получим точный интервал изменения $Z$;\n",
    "* затем вычислим формулу [(2)](#Zseq) в интервальной арифметике и сравним интервальную оценку с точным интервалом изменения $Z$.\n",
    "\n",
    "### Параметры электрической цепи\n",
    "\n",
    "Для расчетов конкретизируем параметры цепи.\n",
    "\n",
    "В качестве центральной частоты возьмём $f= 13.56$ МГц. Данный диапазон может \n",
    "использоваться во всем мире без лицензий,\n",
    "он имеет специальное обозначение --- [ISM](https://en.wikipedia.org/wiki/ISM_radio_band) (Industrial, Scientific, Medical). \n",
    "\n",
    "Рассмотрим практическое применение оборудования в диапазоне ISM: генератор \n",
    "плазменного источника возбуждения-ионизации пробы для элементного анализа \n",
    "с [индуктивно-связанной плазмой](https://ru.wikipedia.org/wiki/%D0%98%D0%BD%D0%B4%D1%83%D0%BA%D1%82%D0%B8%D0%B2%D0%BD%D0%BE-%D1%81%D0%B2%D1%8F%D0%B7%D0%B0%D0%BD%D0%BD%D0%B0%D1%8F_%D0%BF%D0%BB%D0%B0%D0%B7%D0%BC%D0%B0) (ИСП). \n",
    "\n",
    "Индуктор плазмотрона ИСП (диаметр и длина 20 мм, три витка) имеет индуктивность \n",
    "порядка $L=100$ нГн и реактивное сопротивление 8.52 Ом на частоте ISM. В таком случае \n",
    "ёмкость резонансного контура имеет такое же реактивное сопротивление при $C=1.38$ нФ.  \n",
    "  \n",
    "Пусть круговая частота $ \\omega$ меняется в интервале $\\ \\pm 10 \\%$ относительно \n",
    "центра  диапазона ISM. \n",
    "\\begin{equation}\n",
    "\\label{OmegaInt}\n",
    "\\mathbf{\\omega} = [\\,\\underline{\\omega}, \\overline{\\omega} ] = [7.668, 9.372] \\cdot 10^7 \\ \\text{Гц}.\n",
    "\\end{equation}\n",
    "\n",
    "Напомним, что круговая частота связана с частотой колебаний $f$ соотношением \n",
    "$\\omega = 2 \\pi f$. \n",
    "\n",
    "Активное сопротивление примем равным 1 Ом. Такой порядок имеет \n",
    "сопротивление частично ионизированного аргона в плазмотроне. "
   ]
  },
  {
   "cell_type": "code",
   "execution_count": 4,
   "metadata": {},
   "outputs": [
    {
     "name": "stdout",
     "output_type": "stream",
     "text": [
      "f =  13560000\n",
      "omega ⊂ [7.6679e+07, 9.372e+07]\n",
      "L =    1.0000e-07\n",
      "C =    1.3800e-09\n",
      "R =  1\n"
     ]
    }
   ],
   "source": [
    "# Центральная частота, Гц\n",
    "f = 13.56e6\n",
    "\n",
    "# Круговая частота равна центральной ±10%, Гц\n",
    "omega = 2 * pi * f * infsup(0.9, 1.1)\n",
    "\n",
    "# Индуктивность, Гн \n",
    "L = 100e-9 \n",
    "\n",
    "# Ёмкость резонансного контура, Ф\n",
    "C = 1.38e-9  \n",
    "\n",
    "# Активное сопротивление, Ом\n",
    "R = 1"
   ]
  },
  {
   "cell_type": "markdown",
   "metadata": {},
   "source": [
    "### Точный интервал значений $Z$ \n",
    "\n",
    "Выражение [(2)](#Zseq) для полного сопротивления $Z$ характерно тем, что индуктивное и ёмкостное сопротивления зависят от частоты противоположным образом. Это хорошо иллюстрирует график зависимости $X_L, X_C$ и $Z$ от частоты в интервале \n",
    "$\\mathbf{\\omega}.$"
   ]
  },
  {
   "cell_type": "code",
   "execution_count": 5,
   "metadata": {},
   "outputs": [
    {
     "data": {
      "image/png": "[encoded data removed]",
      "text/plain": [
       "<IPython.core.display.Image object>"
      ]
     },
     "metadata": {},
     "output_type": "display_data"
    }
   ],
   "source": [
    "# Сетка значений в интервале omega\n",
    "omega_vals = omega.inf : rad(omega)/20 : omega.sup;\n",
    "\n",
    "# Значения ёмкостного сопротивления\n",
    "XC = 1 ./ (omega_vals .* C);\n",
    "\n",
    "# Значения индуктивного сопротивления\n",
    "XL = omega_vals .* L;\n",
    "\n",
    "# Значения полного сопротивления\n",
    "Z = (R^2 + (XL - XC) .^ 2) .^ 0.5;\n",
    "\n",
    "# График\n",
    "plot(omega_vals, XC)\n",
    "hold on\n",
    "plot(omega_vals, XL)\n",
    "plot(omega_vals, Z)\n",
    "xlabel('\\omega, Hz')\n",
    "ylabel('X_L, X_C, Z, Ohm')\n",
    "legend({'X_C','X_L','Z'},\"location\", \"eastoutside\")\n",
    "legend boxoff"
   ]
  },
  {
   "cell_type": "markdown",
   "metadata": {},
   "source": [
    "Определим границы изменения величины $Z$. \n",
    "\n",
    "В точке резонанса  $X_L = X_C$ суммарное \n",
    "сопротивление $LC$-части схемы равно нулю, а полное сопротивление равно активному, \n",
    "т.е. $Z = R$. Таким образом, \n",
    "$$\\min_{\\omega} Z = R = 1.$$\n",
    "\n",
    "Величины индуктивного $X_L$ и ёмкостного $X_C$ сопротивлений зависят от частоты \n",
    "противоположным образом и монотонны. Поэтому максимальные значения величины \n",
    "$\\Delta = | X_L - X_C | $ достигаются на одном из краёв диапазона $\\mathbf{\\omega}$: \n",
    "$$\n",
    "\\Delta_{max} = \\max \\left\\lbrace \\Delta( \\underline {\\mathbf{\\omega}}), \\Delta( \\overline {\\mathbf{\\omega}}) \n",
    "\\right\\rbrace =  \\max \\left\\lbrace 1.7822, 1.6401  \\right\\rbrace = 1.7822. $$\n",
    "\n",
    "Соответственно, \n",
    "$$\\max_{\\omega} Z = \\sqrt{R^2 + \\Delta_{max}^2}.$$"
   ]
  },
  {
   "cell_type": "code",
   "execution_count": 6,
   "metadata": {},
   "outputs": [
    {
     "name": "stdout",
     "output_type": "stream",
     "text": [
      "Zmin =  1\n",
      "DeltaLeft =  1.7822\n",
      "DeltaRight =  1.6401\n",
      "DeltaMax =  1.7822\n",
      "Zmax =  2.0435\n",
      "Zexact ⊂ [1, 2.0436]\n",
      "rexact =  0.52177\n"
     ]
    }
   ],
   "source": [
    "# Нижняя граница полного сопротивления\n",
    "Zmin = R\n",
    "\n",
    "# Delta для левой границы интервала omega\n",
    "DeltaLeft = abs(XL(1) - XC(1))\n",
    "\n",
    "# Delta для правой границы интервала omega\n",
    "DeltaRight = abs(XL(end) - XC(end))\n",
    "\n",
    "# Максимум Delta - максимум значений на границах интервала omega\n",
    "DeltaMax = max(DeltaLeft, DeltaRight)\n",
    "\n",
    "# Верхняя граница полного сопротивления\n",
    "Zmax = (R^2 + DeltaMax^2) ^ 0.5\n",
    "\n",
    "# Точный интервал изменения полного сопротивления\n",
    "Zexact = infsup(Zmin, Zmax)\n",
    "\n",
    "rexact =  rad(Zexact)"
   ]
  },
  {
   "cell_type": "markdown",
   "metadata": {},
   "source": [
    "Окончательно имеем точный интервал \n",
    "$$\\mathbf{Z} = [1, 2.044].$$"
   ]
  },
  {
   "cell_type": "markdown",
   "metadata": {},
   "source": [
    "### Вычисление интервального выражения\n",
    "\n",
    "Вычислим также интервал $\\mathbf{Z}$ по формуле [(2)](#Zseq), представленной двумя способами:\n",
    "\n",
    "$$\\mathbf{Z}_1 = \\sqrt{R^2 + \\left( \\mathbf{\\omega} L - \\frac{1}{\\mathbf{\\omega} C} \\right) ^2},$$ \n",
    "\n",
    "$$\\mathbf{Z}_2 = \\sqrt{R^2 + \\mathbf{\\omega}^2\\left( L - \\frac{1}{\\mathbf{\\omega}^2 C} \\right)^2}.$$"
   ]
  },
  {
   "cell_type": "code",
   "execution_count": 7,
   "metadata": {},
   "outputs": [
    {
     "name": "stdout",
     "output_type": "stream",
     "text": [
      "Z1 ⊂ [1, 2.0436]\n",
      "Z2 ⊂ [1, 2.3968]\n",
      "r1 =  0.52177\n",
      "r2 =  0.69838\n"
     ]
    }
   ],
   "source": [
    "# Выражение с двойным вхождением omega\n",
    "Z1 = (R^2 + (omega * L - 1 / (omega * C))^2)^0.5\n",
    "\n",
    "# Выражение c двойным вхождением квадрата omega\n",
    "Z2 = (R^2 + omega^2 * (L - 1 / (omega^2 * C))^2)^0.5\n",
    "\n",
    "# Радиусы интервалов\n",
    "r1 = rad(Z1)\n",
    "r2 = rad(Z2)"
   ]
  },
  {
   "cell_type": "markdown",
   "metadata": {},
   "source": [
    "Нижние величины интервалов $Z_1, \\ Z_2$ соответствуют частотному резонансу $X_L=X_C$ в середине диапазона $\\mathbf{\\omega}$, верхние относятся к краям выбранного диапазона, иначе --- расстройке резонанса. \n",
    "\n",
    "Значение выражения $Z_1$ в точности совпадает с точным интервалом изменения значений полного сопротивления, полученным аналитически. Радиус значения выражения $Z_2$ больше в связи с дополнительным умножением на величину $\\omega^2$.\n"
   ]
  },
  {
   "cell_type": "markdown",
   "metadata": {},
   "source": [
    "<a id='refs'></a>\n",
    "## Публикации\n",
    "\n",
    "1. <a id='SharyBook'></a> Шарый С.П. *Конечномерный интервальный анализ.* -- ФИЦ ИВТ: \n",
    "Новосибирск, 2021.  \n",
    "http://www.nsc.ru/interval/Library/InteBooks/SharyBook.pdf \n",
    "\n",
    "2. <a id='YavorskiDetlaf'></a> Яворский Б.М., Детлаф А.А. *Справочник по физике для инженеров и студентов ВУЗов*. -- Москва: Наука, 1968 (*а также последующие издания*). \n"
   ]
  }
 ],
 "metadata": {
  "kernelspec": {
   "display_name": "Octave",
   "language": "octave",
   "name": "octave"
  },
  "language_info": {
   "file_extension": ".m",
   "help_links": [
    {
     "text": "GNU Octave",
     "url": "https://www.gnu.org/software/octave/support.html"
    },
    {
     "text": "Octave Kernel",
     "url": "https://github.com/Calysto/octave_kernel"
    },
    {
     "text": "MetaKernel Magics",
     "url": "https://metakernel.readthedocs.io/en/latest/source/README.html"
    }
   ],
   "mimetype": "text/x-octave",
   "name": "octave",
   "version": "4.2.2"
  }
 },
 "nbformat": 4,
 "nbformat_minor": 4
}
