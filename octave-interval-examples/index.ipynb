{
 "cells": [
  {
   "cell_type": "markdown",
   "metadata": {},
   "source": [
    "# Анализ интервальных данных в примерах\n",
    "\n",
    "## 1. Основы Octave, пакет interval, интервальные арифметики, ...\n",
    "\n",
    "1. [Начало работы с пакетом interval в Octave](GettingStarted.ipynb)\n",
    "\n",
    "2. [Зависимость интервальных оценок областей значений выражений от их вида](IntervalExpressions.ipynb)\n",
    "\n",
    "3. Полная интервальная арифметика Каухера\n",
    "\n",
    "## 2. Примеры анализа данных\n",
    "\n",
    "### 2.1 Оценивание значений постоянных величин\n",
    "\n",
    "Примеры анализа выборок несовместных измерений.\n",
    "\n",
    "1. [Гравитационная постоянная](GravityConstant.ipynb)\n",
    "\n",
    "2. [Время жизни нейтрона](NeutronLifetime.ipynb)\n",
    "\n",
    "3. Масса нейтрино\n",
    "\n",
    "4. [Масса *t*-кварка](TopQuark.ipynb)\n",
    "\n",
    "5. [Константа Хаббла](HubbleConstant.ipynb)\n",
    "\n",
    "### 2.2 Построение линейных зависимостей\n",
    "\n",
    "1. [Производительность парогенератора (выход пара в зависимости от расхода топлива)](SteamGenerator.ipynb)\n",
    "2. ..."
   ]
  },
  {
   "cell_type": "code",
   "execution_count": null,
   "metadata": {},
   "outputs": [],
   "source": []
  }
 ],
 "metadata": {
  "kernelspec": {
   "display_name": "Octave",
   "language": "octave",
   "name": "octave"
  },
  "language_info": {
   "file_extension": ".m",
   "help_links": [
    {
     "text": "GNU Octave",
     "url": "https://www.gnu.org/software/octave/support.html"
    },
    {
     "text": "Octave Kernel",
     "url": "https://github.com/Calysto/octave_kernel"
    },
    {
     "text": "MetaKernel Magics",
     "url": "https://metakernel.readthedocs.io/en/latest/source/README.html"
    }
   ],
   "mimetype": "text/x-octave",
   "name": "octave",
   "version": "5.2.0"
  }
 },
 "nbformat": 4,
 "nbformat_minor": 4
}
