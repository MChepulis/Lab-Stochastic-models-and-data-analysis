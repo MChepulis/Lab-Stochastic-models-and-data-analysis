{
 "cells": [
  {
   "cell_type": "markdown",
   "metadata": {},
   "source": [
    "# Постоянная Хаббла\n",
    "\n",
    "Постоянная Хаббла — коэффициент, входящий в закон Хаббла, который связывает расстояние до внегалактического объекта (галактики, квазара) со скоростью его удаления. Обычно обозначается буквой $H$. Имеет размерность, обратную времени ($H ≈ 2.2⋅10^{−18} с^{−1}$), но выражается обычно в км/с на мегапарсек, обозначая таким образом среднюю скорость разлёта в современную эпоху двух галактик, разделённых расстоянием в 1 Мпк. В моделях расширяющейся Вселенной постоянная Хаббла изменяется со временем, а смысл термина «постоянная» — в том, что в каждый данный момент времени во всех точках Вселенной величина $H$ одинакова.\n",
    "\n",
    "Проблема оценки постоянной Хаббла осложняется тем, что, помимо космологических скоростей, обусловленных расширением Вселенной, галактики ещё обладают собственными скоростями, которые могут составлять несколько от сотен до тысяч км/с). Это приводит к тому, что закон Хаббла плохо выполняется или совсем не выполняется для объектов, \n",
    "находящихся на расстоянии ближе 10—15 млн св. лет, то есть как раз для тех галактик, расстояния до которых наиболее надёжно определяются без красного смещения.\n",
    "\n",
    "\n",
    "## Набор данных\n",
    "\n",
    "Измерения константы Хаббла выражаются интервалами, распахнутыми вокруг экспериментальных значений $H$. При этом нижняя и верхние границы интервалов в общем случае несимметричны."
   ]
  },
  {
   "cell_type": "code",
   "execution_count": 1,
   "metadata": {},
   "outputs": [],
   "source": [
    "# Загрузка пакета для интервальных вычислений\n",
    "pkg load interval"
   ]
  },
  {
   "cell_type": "code",
   "execution_count": 19,
   "metadata": {},
   "outputs": [
    {
     "name": "stdout",
     "output_type": "stream",
     "text": [
      "hubble =\r\n",
      "\r\n",
      "  scalar structure containing the fields:\r\n",
      "\r\n",
      "    title = Постоянная Хаббла, H0, км/с/Mпк\r\n",
      "    ref = Hubble Constant, H0, https://lambda.gsfc.nasa.gov/education/graphic_history/hubb_const.cfm\r\n",
      "    vars = \r\n",
      "    {\r\n",
      "      [1,1] = mean_val\r\n",
      "      [2,1] = eps_minus\r\n",
      "      [3,1] = eps_plus\r\n",
      "    }\r\n",
      "    id = \r\n",
      "    {\r\n",
      "      [1,1] = TRGB_Dist_Ladder 2019\r\n",
      "      [2,1] = GravLens_Time_Delay 2019\r\n",
      "      [3,1] = XMM+Planck_tSZ 2018\r\n",
      "      [4,1] = Planck_PR33++ 2018\r\n",
      "      [5,1] = LIGO/VIRGO_grav_waves 2017\r\n",
      "      [6,1] = BAO+D/H 2017\r\n",
      "      [7,1] = Distance_Ladder 2016\r\n",
      "      [8,1] = Inv_Dist_Ladder 2015\r\n",
      "      [9,1] = WMAP9++ 2013\r\n",
      "      [10,1] = Cepheids+SNla 2011\r\n",
      "      [11,1] = CHANDRA+tSZ 2006\r\n",
      "      [12,1] = HST_Key_Project 2001\r\n",
      "    }\r\n",
      "    data =\r\n",
      "\r\n",
      "       69.80000    1.90000    1.90000\r\n",
      "       73.30000    1.70000    1.80000\r\n",
      "       67.00000    3.00000    3.00000\r\n",
      "       67.66000    0.42000    0.42000\r\n",
      "       70.00000    8.00000   12.00000\r\n",
      "       66.98000    1.18000    1.18000\r\n",
      "       73.24000    1.74000    1.74000\r\n",
      "       67.30000    1.10000    1.10000\r\n",
      "       68.76000    0.84000    0.84000\r\n",
      "       73.80000    2.40000    2.40000\r\n",
      "       73.70000    8.50000   10.50000\r\n",
      "       72.00000    8.00000    8.00000\r\n",
      "\r\n",
      "\r\n"
     ]
    }
   ],
   "source": [
    "# Исходные данные \n",
    "# Значение | Стандартное отклонение | Систематическая погрешность\n",
    "load data/hubble\n",
    "\n",
    "hubble"
   ]
  },
  {
   "cell_type": "code",
   "execution_count": 26,
   "metadata": {},
   "outputs": [
    {
     "name": "stdout",
     "output_type": "stream",
     "text": [
      "H ⊂ 12×1 interval vector\r\n",
      "\r\n",
      "   [67.899, 71.701]\r\n",
      "     [71.599, 75.1]\r\n",
      "           [64, 70]\r\n",
      "    [67.239, 68.08]\r\n",
      "           [62, 82]\r\n",
      "   [65.799, 68.161]\r\n",
      "      [71.5, 74.98]\r\n",
      "       [66.2, 68.4]\r\n",
      "    [67.92, 69.601]\r\n",
      "   [71.399, 76.201]\r\n",
      "     [65.2, 84.201]\r\n",
      "           [64, 80]\r\n",
      "\r\n"
     ]
    }
   ],
   "source": [
    "# Нижняя и верхняя границы интервалов\n",
    "H_value = hubble.data(:,1);\n",
    "H_lerr = hubble.data(:,2); \n",
    "H_uerr = hubble.data(:,3); \n",
    "\n",
    "# Интервальные измерения\n",
    "H = infsup(H_value - H_lerr, H_value + H_uerr)"
   ]
  },
  {
   "cell_type": "code",
   "execution_count": 28,
   "metadata": {},
   "outputs": [
    {
     "data": {
      "image/png": "[encoded data removed]",
      "text/plain": [
       "<IPython.core.display.Image object>"
      ]
     },
     "metadata": {},
     "output_type": "display_data"
    }
   ],
   "source": [
    "# Графическое представление интервальных данных\n",
    "nums = 1:numel(H);\n",
    "vals = H_value;\n",
    "lerr = H_lerr;\n",
    "uerr = H_uerr;\n",
    "errorbar (vals, nums, lerr, uerr,\">.\");\n",
    "%ylim([0 14])\n",
    "legend (\"Intervals\");\n",
    "title (\"Interval measurements of gravity constant G\");\n",
    "xlabel(\"H (km/s/Mpc)\")\n",
    "ylabel(\"Measurement number\")"
   ]
  },
  {
   "cell_type": "code",
   "execution_count": 29,
   "metadata": {},
   "outputs": [
    {
     "name": "stdout",
     "output_type": "stream",
     "text": [
      "ans = [Empty]\r\n"
     ]
    }
   ],
   "source": [
    "# Пересечение интервалов пусто, т.е. интервальная выборка несовместна\n",
    "intersect(H)"
   ]
  },
  {
   "cell_type": "markdown",
   "metadata": {},
   "source": [
    "<a id='refs'></a>\n",
    "## Публикации\n",
    "\n",
    "1. Hubble Constant, H0, https://lambda.gsfc.nasa.gov/education/graphic_history/hubb_const.cfm\n",
    ". \n",
    "\n"
   ]
  }
 ],
 "metadata": {
  "kernelspec": {
   "display_name": "Octave",
   "language": "octave",
   "name": "octave"
  },
  "language_info": {
   "file_extension": ".m",
   "help_links": [
    {
     "text": "GNU Octave",
     "url": "https://www.gnu.org/software/octave/support.html"
    },
    {
     "text": "Octave Kernel",
     "url": "https://github.com/Calysto/octave_kernel"
    },
    {
     "text": "MetaKernel Magics",
     "url": "https://metakernel.readthedocs.io/en/latest/source/README.html"
    }
   ],
   "mimetype": "text/x-octave",
   "name": "octave",
   "version": "5.2.0"
  }
 },
 "nbformat": 4,
 "nbformat_minor": 4
}
