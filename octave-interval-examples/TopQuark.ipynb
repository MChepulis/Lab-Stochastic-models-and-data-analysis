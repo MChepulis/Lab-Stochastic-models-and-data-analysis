{
 "cells": [
  {
   "cell_type": "markdown",
   "metadata": {},
   "source": [
    "# Масса *t*-кварка\n",
    "\n",
    "Кварк --- фундаментальная частица в [Стандартной модели](https://ru.wikipedia.org/wiki/%D0%A1%D1%82%D0%B0%D0%BD%D0%B4%D0%B0%D1%80%D1%82%D0%BD%D0%B0%D1%8F_%D0%BC%D0%BE%D0%B4%D0%B5%D0%BB%D1%8C), обладающая электрическим зарядом, кратным $e/3$, и не наблюдаемая в свободном состоянии, но входящая в состав адронов (сильно взаимодействующих частиц, таких как протоны и нейтроны). Кварки являются бесструктурными, точечными частицами; это проверено вплоть до масштаба примерно 10<sup>-16</sup> см<sup>3</sup>, что примерно в тысячу раз меньше размера протона. В настоящее время известно 6 разных \"\"сортов\" кварков. Каждому кварку соответствует антикварк — античастица с противоположными квантовыми числами. \n",
    "\n",
    "![Таблица элементарных частиц стандартной модели](https://upload.wikimedia.org/wikipedia/commons/thumb/9/9e/Standard_Model_of_Elementary_Particles_ru.svg/400px-Standard_Model_of_Elementary_Particles_ru.svg.png \"Таблица элементарных частиц стандартной модели\")\n",
    "<center>Рис. 1. Таблица элементарных частиц стандартной модели <a href=\"#UFN2015\">[3]</a></center>\n",
    "\n",
    "$t$-кварк  (сокращение от _топ-кварк_, англ. _top quark_ или _истинный кварк_, англ. _truth quark_)  является наиболее массивным среди всех частиц Стандартной Модели; его масса близка к массе ядра рения [[1]](#PhysicsInfo). \n",
    "Время жизни $t$-кварка составляет около 5 $\\times$ 10<sup>-25</sup> секунды, что на порядок меньше стандартного времени сильного взаимодействия. \n",
    "\n",
    "Непосредственное измерение свойств кварков невозможно --- они наблюдаются только в составе адронов.\n",
    "На ускорителях при столкновении протонов высокой энергии ведется поиск процессов типа аннигиляции пары \"частица-античастица\"\n",
    "\n",
    "$$\n",
    "p + \\overline{p} \\rightarrow t + \\overline{t} \\rightarrow \\text{ различные частицы}\n",
    "$$\n",
    "\n",
    "и по кинематике продуктов распада восстанавливаются свойства исходных частиц.\n",
    "\n",
    "Изучение свойств  $t$-кварка представляет сложную экспериментальную работу, которая ведётся несколько десятков лет.\n",
    "\n",
    "Непосредственно в эксперименте масса кварка не измеряется, её значение устанавливается в результате обработки экспериментов. Например, в _методе шаблонов_ используются распределения плотности вероятности, связанных с массой $t$-кварка кинематических наблюдаемых, которые называются шаблонами. Для получения шаблонов используются результаты моделирования событий методом Монте-Карло, их параметрами являются как сама величина $m_t$, так и другие параметры реакции [[3]](#UFN2015). \n",
    "\n",
    "\n",
    "Организация [Particle Data Group (PDG)](https://pdg.lbl.gov/2020/html/about\\_pdg.html) --- международная коллаборация, которая занимается сверкой и представлением данных о физике частиц  и публикует обзоры _Review of Particle Physics_. В отчете 2019 года [[4]](#PDG2019) приводится обзор экспериментов по измерению массы $t$-кварка.\n",
    "\n",
    "В обзоре [[5]](#Review2016) содержатся ссылки на более ранние эксперименты. \n",
    "\n",
    "<center><br>Таблица 1. Сводка экспериментов по измерению массы $t$-кварка.</center>.\n",
    "\n",
    "| Среднее $\\pm$ стат. погрешность $\\pm$ сист. погрешность |  Ссылка  |\n",
    "| :-------: | :--------: |\n",
    "| $172.08 \\pm 0.25 \\pm 0.41$ | [[6]](#ATLAS2019)      |\n",
    "| $172.44 \\pm 0.13 \\pm 0.47$ | [[7]](#CMS2016)        | \n",
    "| $172.35 \\pm 0.16 \\pm 0.48$ | [[7]](#CMS2016)        |\n",
    "| $172.34 \\pm 0.20 \\pm 0.70$ | [[8]](#CMS2019)        |\n",
    "| $173.72 \\pm 0.55 \\pm 1.01$ | [[9]](#ATLAS2017)      |\n",
    "| $172.25 \\pm 0.08 \\pm 0.62$ | [[10]](#CMS2018)       |  \n",
    "| $174.30 \\pm 0.35 \\pm 0.54$ | [[11]](#Tevatron2016)  |\n",
    "| $173.34 \\pm 0.27 \\pm 0.71$ | [[12]](#Common2013)    |\n",
    "\n",
    "\n",
    "\n",
    "<a id='refs'></a>\n",
    "## Cписок литературы\n",
    "\n",
    "1. <a id='PhysicsInfo'></a>\n",
    "The mass of the top quark.  \n",
    "https://physics.info/qcd/practice.shtml\n",
    "2. <a id='PDG'></a>\n",
    "Particle Data Group (PDG)   \n",
    "https://pdg.lbl.gov/2020/html/about/_pdg.html\n",
    "3. <a id='UFN2015'></a>\n",
    "Боос Э.Э. Брандт О.Е., Денисов Д.С., Денисов С.П., Граннис П.Д. *Toп-кварк (к 20-летию открытия)* // УФН, 185, c.1241–1269 (2015).   \n",
    "DOI: [10.3367/UFNr.0185.201512a.1241](http://doi.org/10.3367/UFNr.0185.201512a.1241)\n",
    "4. <a id='PDG2019'></a>\n",
    "Particle Data Group report 2019. pp.1-42.  \n",
    "https://pdg.lbl.gov/2019/reviews/rpp2019-rev-top-quark.pdf.\n",
    "5. <a id='Review2016'></a> G.Cortiana. *Top-quark mass measurements: Review and perspectives.* // Reviews in Physics Volume 1, November 2016, pp 60-76.  \n",
    "DOI:[10.1016/j.revip.2016.04.001](http://doi.org/10.1016/j.revip.2016.04.001),  \n",
    "6. <a id='ATLAS2019'></a>\n",
    "M. Aaboud et al. (ATLAS), Eur. Phys. J. C79, 4, 290 (2019), [arXiv:1810.01772](https://arxiv.org/abs/1810.01772)  \n",
    "DOI: [10.1140/epjc/s10052-019-6757-9](http://doi.org/10.1140/epjc/s10052-019-6757-9)\n",
    "7. <a id='CMS2016'></a>\n",
    "Khachatryan et al. (CMS), Phys. Rev. D93, 7, 072004 (2016), [arXiv:1509.04044](https://arxiv.org/abs/1509.04044)   \n",
    "DOI: [10.1103/PhysRevD.93.072004](http://doi.org/10.1103/PhysRevD.93.072004)\n",
    "8. <a id='CMS2019'></a> \n",
    "A. M. Sirunyan et al. (CMS), Eur. Phys. J. C79, 4, 313 (2019), [arXiv:1812.10534](https://arxiv.org/abs/1812.10534)   \n",
    "DOI: [10.1140/epjc/s10052-019-6788-2](http://doi.org/10.1140/epjc/s10052-019-6788-2).\n",
    "9. <a id='ATLAS2017'></a>\n",
    "M. Aaboud et al. (ATLAS), JHEP 09, 118 (2017), [arXiv:1702.07546](https://arxiv.org/abs/1702.07546)  \n",
    "DOI: [10.1007/JHEP09(2017)118](http://doi.org/10.1007/JHEP09(2017)118).\n",
    "10. <a id='CMS2018'></a>\n",
    "A. M. Sirunyan et al. (CMS), Eur. Phys. J. C78, 11, 891 (2018), [arXiv:1805.01428](https://arxiv.org/abs/1805.01428)  \n",
    "DOI: [10.1140/epjc/s10052-018-6332-9](http://doi.org/10.1140/epjc/s10052-018-6332-9).\n",
    "11. <a id='Tevatron2016'></a>\n",
    "The Tevatron Electroweak Working Group and Aaltonen, T., For the CDF and D0 Collab., [arXiv:1608.01881](https://arxiv.org/abs/1608.01881), FERMILAB-CONF-16-298-E. 2016\n",
    "12. <a id='Common2013'>\n",
    "ATLAS,CMS, CDF, \\& D0 Collab, Phys. Rev. Lett. , 110, 25204 (2013).  \n",
    "DOI: [10.1103/PhysRevLett.110.252004](http://doi.org/10.1103/PhysRevLett.110.252004).\n",
    "13. <a id='Oskorbin1998'></a>\n",
    "Оскорбин Н.М., Максимов А.В., Жилин С.И. *Построение и анализ эмпирических зависимостей методом центра неопределенности* // Известия Алтайского государственного университета 1 (5), 1998, С. 37-40.  \n",
    "http://izvestia.asu.ru/1998/1/info/TheNewsOfASU-1998-1-info-01.pdf\n"
   ]
  },
  {
   "cell_type": "code",
   "execution_count": 1,
   "metadata": {},
   "outputs": [],
   "source": [
    "# Загрузка пакета для интервальных вычислений\n",
    "pkg load interval"
   ]
  },
  {
   "cell_type": "code",
   "execution_count": 2,
   "metadata": {},
   "outputs": [
    {
     "name": "stdout",
     "output_type": "stream",
     "text": [
      "data_vars = \n",
      "{\n",
      "  [1,1] = mean_val\n",
      "  [2,1] = eps_minus\n",
      "  [3,1] = eps_plus\n",
      "  [4,1] = systematic_eps_minus\n",
      "  [5,1] = systematic_eps_plus\n",
      "}\n",
      "TQstd ⊂ 8×1 interval vector\n",
      "\n",
      "   [171.83, 172.34]_com\n",
      "    [172.3, 172.58]_com\n",
      "   [172.18, 172.52]_com\n",
      "   [172.13, 172.55]_com\n",
      "   [173.16, 174.28]_com\n",
      "   [172.16, 172.34]_com\n",
      "   [173.94, 174.66]_com\n",
      "   [173.06, 173.62]_com\n",
      "\n",
      "TQtotal ⊂ 8×1 interval vector\n",
      "\n",
      "   [171.41, 172.75]_com\n",
      "   [171.83, 173.05]_com\n",
      "       [171.7, 173]_com\n",
      "   [171.43, 173.25]_com\n",
      "   [172.15, 175.29]_com\n",
      "   [171.54, 172.96]_com\n",
      "     [173.4, 175.2]_com\n",
      "   [172.35, 174.33]_com\n",
      "\n"
     ]
    }
   ],
   "source": [
    "# Загрузить данные \n",
    "load data/topquark.mat\n",
    "\n",
    "data = topquark.data;\n",
    "data_vars = topquark.vars\n",
    "\n",
    "topquark_mid = data(:,1); \n",
    "topquark_rad_std = data(:,2); \n",
    "topquark_rad_std_syst = data(:,2) + data(:,4); \n",
    "\n",
    "# Интервальные измерения только со случайной погрешностью\n",
    "TQstd = midrad(topquark_mid, topquark_rad_std)\n",
    "\n",
    "# Интервальные измерения со случайной и систематической погрешностью\n",
    "TQtotal = midrad(topquark_mid, topquark_rad_std_syst)"
   ]
  },
  {
   "cell_type": "code",
   "execution_count": 3,
   "metadata": {},
   "outputs": [
    {
     "data": {
      "image/png": "[encoded data removed]",
      "text/plain": [
       "<IPython.core.display.Image object>"
      ]
     },
     "metadata": {},
     "output_type": "display_data"
    }
   ],
   "source": [
    "# Графическое представление интервальных данных\n",
    "nums = 1:numel(TQtotal);\n",
    "vals = mid(TQtotal);\n",
    "errorbar (vals, nums, rad(TQtotal), rad(TQtotal),\">.r\");\n",
    "ylim([0 nums(end)+1])\n",
    "hold on\n",
    "h = errorbar (vals, nums, rad(TQstd), rad(TQstd),\">.b\");\n",
    "set(h,\"linewidth\",6)\n",
    "set(h,\"markersize\",12)\n",
    "title (\"Interval measurements of t-quark mass\");\n",
    "xlabel(\"t-quark mass, GeV\")\n",
    "ylabel(\"Measurement number\")\n",
    "legend (\"Measurements with total errors\",\"Measurements with std errors\",\"location\",\"southeast\");\n",
    "#grid on"
   ]
  },
  {
   "cell_type": "code",
   "execution_count": 4,
   "metadata": {},
   "outputs": [
    {
     "name": "stdout",
     "output_type": "stream",
     "text": [
      "ans = [Empty]_trv\r\n"
     ]
    }
   ],
   "source": [
    "# Пересечение интервалов пусто, т.е. интервальная выборка несовместна\n",
    "intersect(TQtotal)"
   ]
  },
  {
   "cell_type": "code",
   "execution_count": 5,
   "metadata": {},
   "outputs": [],
   "source": [
    "# Функция построения оценки константы по интервальным измерениям \n",
    "# методом центра неопределённости (МЦН) [13]\n",
    "function [oskorbin_center, k] = estimate_uncertainty_center(intervals)\n",
    "  n = numel(intervals);\n",
    "  y = mid(intervals);\n",
    "  e = rad(intervals);\n",
    "  A = [ones(n,1), -e; -ones(n,1), -e];\n",
    "  b = [y; -y];  \n",
    "  c = [0 1];\n",
    "  lb = [-Inf 0];\n",
    "  ub = [Inf Inf];  \n",
    "  ctype(1:2*n) = 'U'; \n",
    "  vartype(1:2) = 'C';\n",
    "  sense = 1;\n",
    "  [beta, fval, exitcode] = glpk (c, A, b, lb, ub, ctype, vartype, sense);\n",
    "  if exitcode < 0\n",
    "      return\n",
    "  end   \n",
    "  oskorbin_center = beta(1);\n",
    "  k = beta(2);\n",
    "end "
   ]
  },
  {
   "cell_type": "code",
   "execution_count": 6,
   "metadata": {},
   "outputs": [
    {
     "name": "stdout",
     "output_type": "stream",
     "text": [
      "oskorbin_center =  173.03\r\n",
      "k =  1.4323\r\n"
     ]
    }
   ],
   "source": [
    "# МЦН-оценка массы t-кварка и минимальный коэффициент расширения интервалов для совместности выборки\n",
    "[oskorbin_center, k] = estimate_uncertainty_center(TQtotal)"
   ]
  },
  {
   "cell_type": "code",
   "execution_count": 7,
   "metadata": {},
   "outputs": [
    {
     "data": {
      "image/png": "[encoded data removed]",
      "text/plain": [
       "<IPython.core.display.Image object>"
      ]
     },
     "metadata": {},
     "output_type": "display_data"
    }
   ],
   "source": [
    "# Графическое представление интервальных данных и МЦН-оценки значения массы t-кварка\n",
    "errorbar (vals, nums, k*rad(TQtotal), k*rad(TQtotal),\">.k\");\n",
    "ylim([0 nums(end)+1])\n",
    "hold on\n",
    "h = errorbar (vals, nums, rad(TQtotal), rad(TQtotal),\">.r\");\n",
    "set(h,\"linewidth\",4)\n",
    "h = errorbar (vals, nums, rad(TQstd), rad(TQstd),\">.b\");\n",
    "set(h,\"linewidth\",6)\n",
    "set(h,\"markersize\",12)\n",
    "title (\"Interval measurements of t-quark mass\");\n",
    "xlabel(\"t-quark mass, GeV\")\n",
    "ylabel(\"Measurement number\")\n",
    "plot(oskorbin_center*[1 1], ylim, 'm--')\n",
    "legend (\"k-scaled measurements\", \"Measurements with total errors\",...\n",
    "        \"Measurements with standard errors\", \"Oskorbin center\",...\n",
    "        \"location\",\"southeast\");\n"
   ]
  }
 ],
 "metadata": {
  "kernelspec": {
   "display_name": "Octave",
   "language": "octave",
   "name": "octave"
  },
  "language_info": {
   "file_extension": ".m",
   "help_links": [
    {
     "text": "GNU Octave",
     "url": "https://www.gnu.org/software/octave/support.html"
    },
    {
     "text": "Octave Kernel",
     "url": "https://github.com/Calysto/octave_kernel"
    },
    {
     "text": "MetaKernel Magics",
     "url": "https://metakernel.readthedocs.io/en/latest/source/README.html"
    }
   ],
   "mimetype": "text/x-octave",
   "name": "octave",
   "version": "5.2.0"
  }
 },
 "nbformat": 4,
 "nbformat_minor": 4
}
